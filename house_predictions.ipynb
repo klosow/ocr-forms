{
  "nbformat": 4,
  "nbformat_minor": 0,
  "metadata": {
    "accelerator": "GPU",
    "colab": {
      "name": "house predictions.ipynb",
      "provenance": [],
      "collapsed_sections": [],
      "mount_file_id": "1AZ5pLg9pJ-XU7yZ8SvjvCPQoDOXIeNKD",
      "authorship_tag": "ABX9TyO8j4hY90H9p85fSh1v3tWl",
      "include_colab_link": true
    },
    "kernelspec": {
      "display_name": "Python 3",
      "name": "python3"
    },
    "language_info": {
      "name": "python"
    }
  },
  "cells": [
    {
      "cell_type": "markdown",
      "metadata": {
        "id": "view-in-github",
        "colab_type": "text"
      },
      "source": [
        "<a href=\"https://colab.research.google.com/github/klosow/ocr-forms/blob/master/house_predictions.ipynb\" target=\"_parent\"><img src=\"https://colab.research.google.com/assets/colab-badge.svg\" alt=\"Open In Colab\"/></a>"
      ]
    },
    {
      "cell_type": "code",
      "metadata": {
        "colab": {
          "base_uri": "https://localhost:8080/"
        },
        "id": "meFIjcRWFjF5",
        "outputId": "e44e9d1e-0975-40fd-97e0-0a059ad5fc5f"
      },
      "source": [
        "!pip install keras-bert catboost xgboost lightgbm transformers"
      ],
      "execution_count": 85,
      "outputs": [
        {
          "output_type": "stream",
          "name": "stdout",
          "text": [
            "Requirement already satisfied: keras-bert in /usr/local/lib/python3.7/dist-packages (0.88.0)\n",
            "Requirement already satisfied: catboost in /usr/local/lib/python3.7/dist-packages (1.0.0)\n",
            "Requirement already satisfied: xgboost in /usr/local/lib/python3.7/dist-packages (0.90)\n",
            "Requirement already satisfied: lightgbm in /usr/local/lib/python3.7/dist-packages (2.2.3)\n",
            "Requirement already satisfied: transformers in /usr/local/lib/python3.7/dist-packages (4.11.3)\n",
            "Requirement already satisfied: Keras>=2.4.3 in /usr/local/lib/python3.7/dist-packages (from keras-bert) (2.6.0)\n",
            "Requirement already satisfied: keras-transformer>=0.39.0 in /usr/local/lib/python3.7/dist-packages (from keras-bert) (0.39.0)\n",
            "Requirement already satisfied: numpy in /usr/local/lib/python3.7/dist-packages (from keras-bert) (1.19.5)\n",
            "Requirement already satisfied: keras-multi-head>=0.28.0 in /usr/local/lib/python3.7/dist-packages (from keras-transformer>=0.39.0->keras-bert) (0.28.0)\n",
            "Requirement already satisfied: keras-embed-sim>=0.9.0 in /usr/local/lib/python3.7/dist-packages (from keras-transformer>=0.39.0->keras-bert) (0.9.0)\n",
            "Requirement already satisfied: keras-pos-embd>=0.12.0 in /usr/local/lib/python3.7/dist-packages (from keras-transformer>=0.39.0->keras-bert) (0.12.0)\n",
            "Requirement already satisfied: keras-position-wise-feed-forward>=0.7.0 in /usr/local/lib/python3.7/dist-packages (from keras-transformer>=0.39.0->keras-bert) (0.7.0)\n",
            "Requirement already satisfied: keras-layer-normalization>=0.15.0 in /usr/local/lib/python3.7/dist-packages (from keras-transformer>=0.39.0->keras-bert) (0.15.0)\n",
            "Requirement already satisfied: keras-self-attention>=0.50.0 in /usr/local/lib/python3.7/dist-packages (from keras-multi-head>=0.28.0->keras-transformer>=0.39.0->keras-bert) (0.50.0)\n",
            "Requirement already satisfied: scipy in /usr/local/lib/python3.7/dist-packages (from catboost) (1.4.1)\n",
            "Requirement already satisfied: graphviz in /usr/local/lib/python3.7/dist-packages (from catboost) (0.10.1)\n",
            "Requirement already satisfied: matplotlib in /usr/local/lib/python3.7/dist-packages (from catboost) (3.2.2)\n",
            "Requirement already satisfied: six in /usr/local/lib/python3.7/dist-packages (from catboost) (1.15.0)\n",
            "Requirement already satisfied: pandas>=0.24.0 in /usr/local/lib/python3.7/dist-packages (from catboost) (1.1.5)\n",
            "Requirement already satisfied: plotly in /usr/local/lib/python3.7/dist-packages (from catboost) (4.4.1)\n",
            "Requirement already satisfied: pytz>=2017.2 in /usr/local/lib/python3.7/dist-packages (from pandas>=0.24.0->catboost) (2018.9)\n",
            "Requirement already satisfied: python-dateutil>=2.7.3 in /usr/local/lib/python3.7/dist-packages (from pandas>=0.24.0->catboost) (2.8.2)\n",
            "Requirement already satisfied: scikit-learn in /usr/local/lib/python3.7/dist-packages (from lightgbm) (0.22.2.post1)\n",
            "Requirement already satisfied: regex!=2019.12.17 in /usr/local/lib/python3.7/dist-packages (from transformers) (2019.12.20)\n",
            "Requirement already satisfied: huggingface-hub>=0.0.17 in /usr/local/lib/python3.7/dist-packages (from transformers) (0.0.19)\n",
            "Requirement already satisfied: filelock in /usr/local/lib/python3.7/dist-packages (from transformers) (3.3.0)\n",
            "Requirement already satisfied: requests in /usr/local/lib/python3.7/dist-packages (from transformers) (2.23.0)\n",
            "Requirement already satisfied: sacremoses in /usr/local/lib/python3.7/dist-packages (from transformers) (0.0.46)\n",
            "Requirement already satisfied: tokenizers<0.11,>=0.10.1 in /usr/local/lib/python3.7/dist-packages (from transformers) (0.10.3)\n",
            "Requirement already satisfied: packaging>=20.0 in /usr/local/lib/python3.7/dist-packages (from transformers) (21.0)\n",
            "Requirement already satisfied: pyyaml>=5.1 in /usr/local/lib/python3.7/dist-packages (from transformers) (6.0)\n",
            "Requirement already satisfied: importlib-metadata in /usr/local/lib/python3.7/dist-packages (from transformers) (4.8.1)\n",
            "Requirement already satisfied: tqdm>=4.27 in /usr/local/lib/python3.7/dist-packages (from transformers) (4.62.3)\n",
            "Requirement already satisfied: typing-extensions in /usr/local/lib/python3.7/dist-packages (from huggingface-hub>=0.0.17->transformers) (3.7.4.3)\n",
            "Requirement already satisfied: pyparsing>=2.0.2 in /usr/local/lib/python3.7/dist-packages (from packaging>=20.0->transformers) (2.4.7)\n",
            "Requirement already satisfied: zipp>=0.5 in /usr/local/lib/python3.7/dist-packages (from importlib-metadata->transformers) (3.6.0)\n",
            "Requirement already satisfied: cycler>=0.10 in /usr/local/lib/python3.7/dist-packages (from matplotlib->catboost) (0.10.0)\n",
            "Requirement already satisfied: kiwisolver>=1.0.1 in /usr/local/lib/python3.7/dist-packages (from matplotlib->catboost) (1.3.2)\n",
            "Requirement already satisfied: retrying>=1.3.3 in /usr/local/lib/python3.7/dist-packages (from plotly->catboost) (1.3.3)\n",
            "Requirement already satisfied: idna<3,>=2.5 in /usr/local/lib/python3.7/dist-packages (from requests->transformers) (2.10)\n",
            "Requirement already satisfied: chardet<4,>=3.0.2 in /usr/local/lib/python3.7/dist-packages (from requests->transformers) (3.0.4)\n",
            "Requirement already satisfied: certifi>=2017.4.17 in /usr/local/lib/python3.7/dist-packages (from requests->transformers) (2021.5.30)\n",
            "Requirement already satisfied: urllib3!=1.25.0,!=1.25.1,<1.26,>=1.21.1 in /usr/local/lib/python3.7/dist-packages (from requests->transformers) (1.24.3)\n",
            "Requirement already satisfied: joblib in /usr/local/lib/python3.7/dist-packages (from sacremoses->transformers) (1.0.1)\n",
            "Requirement already satisfied: click in /usr/local/lib/python3.7/dist-packages (from sacremoses->transformers) (7.1.2)\n"
          ]
        }
      ]
    },
    {
      "cell_type": "code",
      "metadata": {
        "id": "oLDLNtGqFScI"
      },
      "source": [
        "import pandas as pd\n",
        "import numpy as np\n",
        "import gc\n",
        "import glob\n",
        "import re\n",
        "import os\n",
        "import joblib\n",
        "import math\n",
        "\n",
        "from sklearn.metrics import mean_absolute_error\n",
        "from sklearn.model_selection import KFold\n",
        "\n",
        "import catboost as ctb\n",
        "import xgboost as xgb\n",
        "import lightgbm as lgb\n",
        "\n",
        "os.environ['TF_KERAS'] = '1'\n",
        "from keras_bert import load_trained_model_from_checkpoint\n",
        "from transformers import BertForMaskedLM, BertTokenizer, TFBertEmbeddings, AutoModel, AutoTokenizer"
      ],
      "execution_count": 86,
      "outputs": []
    },
    {
      "cell_type": "code",
      "metadata": {
        "id": "mAlV0xaj3oA_"
      },
      "source": [
        "proj_dir = r'/content/drive/MyDrive/Data Workshop/'\n",
        "model_dir = r'/content/drive/MyDrive/Data Workshop/model/bert/bg_cs_pl_ru_cased_L-12_H-768_A-12'\n",
        "config_path = os.path.join(model_dir, 'bert_config.json')\n",
        "checkpoint_path = os.path.join(model_dir, 'bert_model.ckpt')\n",
        "vocab_path = os.path.join(model_dir, 'vocab.txt')"
      ],
      "execution_count": 87,
      "outputs": []
    },
    {
      "cell_type": "code",
      "metadata": {
        "id": "uwUSPaE6GSVd"
      },
      "source": [
        "# model_name = \"djstrong/bg_cs_pl_ru_cased_L-12_H-768_A-12\"\n",
        "# model_name = \"http://huggingface.co/djstrong/bg_cs_pl_ru_cased_L-12_H-768_A-12\"\n",
        "# model_name = \"DeepPavlov/bert-base-bg-cs-pl-ru-cased\""
      ],
      "execution_count": null,
      "outputs": []
    },
    {
      "cell_type": "code",
      "metadata": {
        "id": "a4_LWGs4Ghfu"
      },
      "source": [
        "# tokenizer = AutoTokenizer.from_pretrained(model_name)\n",
        "# bert_model = AutoModel.from_pretrained(model_name)"
      ],
      "execution_count": null,
      "outputs": []
    },
    {
      "cell_type": "code",
      "metadata": {
        "id": "1GvDARq7311B"
      },
      "source": [
        "tokenizer = BertTokenizer(vocab_path)\n",
        "bert_model = load_trained_model_from_checkpoint(config_path, checkpoint_path, training=False)"
      ],
      "execution_count": null,
      "outputs": []
    },
    {
      "cell_type": "code",
      "metadata": {
        "id": "3r3lfo8vxX5G"
      },
      "source": [
        "df = joblib.load('/content/drive/MyDrive/Data Workshop/df.joblib')"
      ],
      "execution_count": 88,
      "outputs": []
    },
    {
      "cell_type": "code",
      "metadata": {
        "colab": {
          "base_uri": "https://localhost:8080/"
        },
        "id": "crEZg0nwxfqe",
        "outputId": "0e77cf3d-5aa9-433f-eb64-4787ecf1d7a4"
      },
      "source": [
        "df.info()"
      ],
      "execution_count": 89,
      "outputs": [
        {
          "output_type": "stream",
          "name": "stdout",
          "text": [
            "<class 'pandas.core.frame.DataFrame'>\n",
            "Int64Index: 29580 entries, 1 to 29575\n",
            "Data columns (total 9 columns):\n",
            " #   Column            Non-Null Count  Dtype  \n",
            "---  ------            --------------  -----  \n",
            " 0   id                29580 non-null  int64  \n",
            " 1   text_description  29580 non-null  object \n",
            " 2   price             14790 non-null  object \n",
            " 3   price_value       14790 non-null  float64\n",
            " 4   text              29580 non-null  object \n",
            " 5   tokens            29580 non-null  object \n",
            " 6   input_ids         29580 non-null  object \n",
            " 7   token_type_ids    29580 non-null  object \n",
            " 8   attention_mask    29580 non-null  object \n",
            "dtypes: float64(1), int64(1), object(7)\n",
            "memory usage: 2.3+ MB\n"
          ]
        }
      ]
    },
    {
      "cell_type": "markdown",
      "metadata": {
        "id": "5-kBVzQO3XaQ"
      },
      "source": [
        "Ponowna tokenizacja"
      ]
    },
    {
      "cell_type": "code",
      "metadata": {
        "id": "8BgdZ8bmyK9E"
      },
      "source": [
        "tokenize = lambda sent: tokenizer.encode_plus(sent, max_length=512, padding='max_length', truncation=True)"
      ],
      "execution_count": null,
      "outputs": []
    },
    {
      "cell_type": "code",
      "metadata": {
        "colab": {
          "base_uri": "https://localhost:8080/"
        },
        "id": "9uZJc2kdyTRc",
        "outputId": "3768da38-ec20-4e04-8672-74b051b5ea86"
      },
      "source": [
        "%time df['tokens'] = df['text'].map(tokenize)"
      ],
      "execution_count": null,
      "outputs": [
        {
          "name": "stdout",
          "output_type": "stream",
          "text": [
            "CPU times: user 3min 48s, sys: 1.09 s, total: 3min 49s\n",
            "Wall time: 3min 49s\n"
          ]
        }
      ]
    },
    {
      "cell_type": "code",
      "metadata": {
        "id": "O_3iyZfZyXP0"
      },
      "source": [
        "df['input_ids'] = df['tokens'].map(lambda t: t['input_ids'])\n",
        "df['token_type_ids'] = df['tokens'].map(lambda t: t['token_type_ids'])\n",
        "df['attention_mask'] = df['tokens'].map(lambda t: t['attention_mask'])\n",
        "\n",
        "input_ids = np.stack(df['input_ids'])\n",
        "token_type_ids = np.stack(df['token_type_ids'])\n",
        "attention_mask = np.stack(df['attention_mask'])"
      ],
      "execution_count": null,
      "outputs": []
    },
    {
      "cell_type": "code",
      "metadata": {
        "id": "1nkbSXpwx89c"
      },
      "source": [
        "input_ids = np.stack(df['input_ids'])\n",
        "token_type_ids = np.stack(df['token_type_ids'])\n",
        "attention_mask = np.stack(df['attention_mask'])"
      ],
      "execution_count": null,
      "outputs": []
    },
    {
      "cell_type": "code",
      "metadata": {
        "colab": {
          "base_uri": "https://localhost:8080/"
        },
        "id": "jnltXSObyHwi",
        "outputId": "50c2e41f-85fb-474c-9d8c-66b5ba482724"
      },
      "source": [
        "input_ids.shape, token_type_ids.shape, attention_mask.shape"
      ],
      "execution_count": null,
      "outputs": [
        {
          "data": {
            "text/plain": [
              "((29580, 512), (29580, 512), (29580, 512))"
            ]
          },
          "execution_count": 12,
          "metadata": {},
          "output_type": "execute_result"
        }
      ]
    },
    {
      "cell_type": "code",
      "metadata": {
        "colab": {
          "base_uri": "https://localhost:8080/"
        },
        "id": "NANLsFYiJ17a",
        "outputId": "430a3999-9c53-4419-ef83-9c97b44b10f6"
      },
      "source": [
        "gc.collect()"
      ],
      "execution_count": null,
      "outputs": [
        {
          "data": {
            "text/plain": [
              "1381"
            ]
          },
          "execution_count": 54,
          "metadata": {},
          "output_type": "execute_result"
        }
      ]
    },
    {
      "cell_type": "code",
      "metadata": {
        "id": "Sbayx3e-PtF1"
      },
      "source": [
        "output_dir = r'/content/drive/MyDrive/Data Workshop/output/'"
      ],
      "execution_count": 7,
      "outputs": []
    },
    {
      "cell_type": "code",
      "metadata": {
        "colab": {
          "base_uri": "https://localhost:8080/"
        },
        "id": "decTVv2pB_9d",
        "outputId": "972dd9e1-c4f5-42a1-8e9f-c17eabc16ac9"
      },
      "source": [
        "max_len = 29580\n",
        "chunk = 32*50\n",
        "liczba_plikow = math.ceil(max_len/chunk)\n",
        "for i in range(liczba_plikow):\n",
        "    chunk_start = i*chunk\n",
        "    chunk_end = min((i+1)*chunk,max_len)\n",
        "    print(f'predykcja chunku: {chunk_start}:{chunk_end}')\n",
        "    %time predicts = bert_model.predict([input_ids[chunk_start:chunk_end], token_type_ids[chunk_start:chunk_end]], verbose=1)\n",
        "    X = predicts[:, 0, :]\n",
        "    fn = f'pred_{i:02d}_{chunk_start:05d}_{chunk_end:05d}.npz'\n",
        "    print(f'chunk: {i} - {chunk_start}:{chunk_end} - {X.shape} - {fn}')\n",
        "    np.savez_compressed(os.path.join(output_dir, fn), x=X)\n",
        "    gc.collect()"
      ],
      "execution_count": null,
      "outputs": [
        {
          "name": "stdout",
          "output_type": "stream",
          "text": [
            "predykcja chunku: 0:1600\n",
            "50/50 [==============================] - 132s 3s/step\n",
            "CPU times: user 20.6 s, sys: 4.96 s, total: 25.6 s\n",
            "Wall time: 2min 17s\n",
            "chunk: 0 - 0:1600 - (1600, 768) - pred_00_00000_01600.npz\n",
            "predykcja chunku: 1600:3200\n",
            "50/50 [==============================] - 127s 3s/step\n",
            "CPU times: user 15.9 s, sys: 2.95 s, total: 18.8 s\n",
            "Wall time: 2min 10s\n",
            "chunk: 1 - 1600:3200 - (1600, 768) - pred_01_01600_03200.npz\n",
            "predykcja chunku: 3200:4800\n",
            "50/50 [==============================] - 127s 3s/step\n",
            "CPU times: user 15.9 s, sys: 2.84 s, total: 18.7 s\n",
            "Wall time: 2min 21s\n",
            "chunk: 2 - 3200:4800 - (1600, 768) - pred_02_03200_04800.npz\n",
            "predykcja chunku: 4800:6400\n",
            "50/50 [==============================] - 127s 3s/step\n",
            "CPU times: user 15.9 s, sys: 3.01 s, total: 18.9 s\n",
            "Wall time: 2min 10s\n",
            "chunk: 3 - 4800:6400 - (1600, 768) - pred_03_04800_06400.npz\n",
            "predykcja chunku: 6400:8000\n",
            "50/50 [==============================] - 127s 3s/step\n",
            "CPU times: user 16 s, sys: 2.94 s, total: 19 s\n",
            "Wall time: 2min 10s\n",
            "chunk: 4 - 6400:8000 - (1600, 768) - pred_04_06400_08000.npz\n",
            "predykcja chunku: 8000:9600\n",
            "50/50 [==============================] - 127s 3s/step\n",
            "CPU times: user 16.3 s, sys: 2.95 s, total: 19.3 s\n",
            "Wall time: 2min 10s\n",
            "chunk: 5 - 8000:9600 - (1600, 768) - pred_05_08000_09600.npz\n",
            "predykcja chunku: 9600:11200\n",
            "50/50 [==============================] - 127s 3s/step\n",
            "CPU times: user 15.7 s, sys: 3.05 s, total: 18.7 s\n",
            "Wall time: 2min 21s\n",
            "chunk: 6 - 9600:11200 - (1600, 768) - pred_06_09600_11200.npz\n",
            "predykcja chunku: 11200:12800\n",
            "50/50 [==============================] - 127s 3s/step\n",
            "CPU times: user 15.9 s, sys: 2.88 s, total: 18.7 s\n",
            "Wall time: 2min 21s\n",
            "chunk: 7 - 11200:12800 - (1600, 768) - pred_07_11200_12800.npz\n",
            "predykcja chunku: 12800:14400\n",
            "50/50 [==============================] - 127s 3s/step\n",
            "CPU times: user 15.9 s, sys: 2.9 s, total: 18.8 s\n",
            "Wall time: 2min 10s\n",
            "chunk: 8 - 12800:14400 - (1600, 768) - pred_08_12800_14400.npz\n",
            "predykcja chunku: 14400:16000\n",
            "50/50 [==============================] - 127s 3s/step\n",
            "CPU times: user 16 s, sys: 2.88 s, total: 18.9 s\n",
            "Wall time: 2min 21s\n",
            "chunk: 9 - 14400:16000 - (1600, 768) - pred_09_14400_16000.npz\n",
            "predykcja chunku: 16000:17600\n",
            "50/50 [==============================] - 127s 3s/step\n",
            "CPU times: user 15.7 s, sys: 2.97 s, total: 18.7 s\n",
            "Wall time: 2min 10s\n",
            "chunk: 10 - 16000:17600 - (1600, 768) - pred_10_16000_17600.npz\n",
            "predykcja chunku: 17600:19200\n",
            "50/50 [==============================] - 127s 3s/step\n",
            "CPU times: user 15.8 s, sys: 3.06 s, total: 18.8 s\n",
            "Wall time: 2min 21s\n",
            "chunk: 11 - 17600:19200 - (1600, 768) - pred_11_17600_19200.npz\n",
            "predykcja chunku: 19200:20800\n",
            "50/50 [==============================] - 127s 3s/step\n",
            "CPU times: user 15.8 s, sys: 3.71 s, total: 19.5 s\n",
            "Wall time: 2min 21s\n",
            "chunk: 12 - 19200:20800 - (1600, 768) - pred_12_19200_20800.npz\n",
            "predykcja chunku: 20800:22400\n",
            "50/50 [==============================] - 127s 3s/step\n",
            "CPU times: user 16 s, sys: 3.22 s, total: 19.2 s\n",
            "Wall time: 2min 10s\n",
            "chunk: 13 - 20800:22400 - (1600, 768) - pred_13_20800_22400.npz\n",
            "predykcja chunku: 22400:24000\n",
            "50/50 [==============================] - 127s 3s/step\n",
            "CPU times: user 15.9 s, sys: 2.87 s, total: 18.8 s\n",
            "Wall time: 2min 10s\n",
            "chunk: 14 - 22400:24000 - (1600, 768) - pred_14_22400_24000.npz\n",
            "predykcja chunku: 24000:25600\n",
            "50/50 [==============================] - 127s 3s/step\n",
            "CPU times: user 16.1 s, sys: 2.76 s, total: 18.8 s\n",
            "Wall time: 2min 21s\n",
            "chunk: 15 - 24000:25600 - (1600, 768) - pred_15_24000_25600.npz\n",
            "predykcja chunku: 25600:27200\n",
            "50/50 [==============================] - 127s 3s/step\n",
            "CPU times: user 16.1 s, sys: 2.9 s, total: 19 s\n",
            "Wall time: 2min 21s\n",
            "chunk: 16 - 25600:27200 - (1600, 768) - pred_16_25600_27200.npz\n",
            "predykcja chunku: 27200:28800\n",
            "50/50 [==============================] - 127s 3s/step\n",
            "CPU times: user 16.1 s, sys: 2.87 s, total: 18.9 s\n",
            "Wall time: 2min 10s\n",
            "chunk: 17 - 27200:28800 - (1600, 768) - pred_17_27200_28800.npz\n",
            "predykcja chunku: 28800:29580\n",
            "25/25 [==============================] - 63s 3s/step\n",
            "CPU times: user 6.15 s, sys: 3.4 s, total: 9.54 s\n",
            "Wall time: 1min 5s\n",
            "chunk: 18 - 28800:29580 - (780, 768) - pred_18_28800_29580.npz\n"
          ]
        }
      ]
    },
    {
      "cell_type": "markdown",
      "metadata": {
        "id": "7OWRqPKwwLbg"
      },
      "source": [
        "Zaczynamy uczenie :-)"
      ]
    },
    {
      "cell_type": "code",
      "metadata": {
        "id": "RzmEJVpIgdE5"
      },
      "source": [
        "fn_list = glob.glob(os.path.join(output_dir, '*.npz'))"
      ],
      "execution_count": 90,
      "outputs": []
    },
    {
      "cell_type": "code",
      "metadata": {
        "colab": {
          "base_uri": "https://localhost:8080/"
        },
        "id": "AcGtsxhlgmWg",
        "outputId": "fb3b9272-c6aa-4367-a2dc-4f2d8ca6a89f"
      },
      "source": [
        "fn_list"
      ],
      "execution_count": 91,
      "outputs": [
        {
          "output_type": "execute_result",
          "data": {
            "text/plain": [
              "['/content/drive/MyDrive/Data Workshop/output/pred_00_00000_01600.npz',\n",
              " '/content/drive/MyDrive/Data Workshop/output/pred_01_01600_03200.npz',\n",
              " '/content/drive/MyDrive/Data Workshop/output/pred_02_03200_04800.npz',\n",
              " '/content/drive/MyDrive/Data Workshop/output/pred_03_04800_06400.npz',\n",
              " '/content/drive/MyDrive/Data Workshop/output/pred_04_06400_08000.npz',\n",
              " '/content/drive/MyDrive/Data Workshop/output/pred_05_08000_09600.npz',\n",
              " '/content/drive/MyDrive/Data Workshop/output/pred_06_09600_11200.npz',\n",
              " '/content/drive/MyDrive/Data Workshop/output/pred_07_11200_12800.npz',\n",
              " '/content/drive/MyDrive/Data Workshop/output/pred_08_12800_14400.npz',\n",
              " '/content/drive/MyDrive/Data Workshop/output/pred_09_14400_16000.npz',\n",
              " '/content/drive/MyDrive/Data Workshop/output/pred_10_16000_17600.npz',\n",
              " '/content/drive/MyDrive/Data Workshop/output/pred_11_17600_19200.npz',\n",
              " '/content/drive/MyDrive/Data Workshop/output/pred_12_19200_20800.npz',\n",
              " '/content/drive/MyDrive/Data Workshop/output/pred_13_20800_22400.npz',\n",
              " '/content/drive/MyDrive/Data Workshop/output/pred_14_22400_24000.npz',\n",
              " '/content/drive/MyDrive/Data Workshop/output/pred_15_24000_25600.npz',\n",
              " '/content/drive/MyDrive/Data Workshop/output/pred_16_25600_27200.npz',\n",
              " '/content/drive/MyDrive/Data Workshop/output/pred_17_27200_28800.npz',\n",
              " '/content/drive/MyDrive/Data Workshop/output/pred_18_28800_29580.npz']"
            ]
          },
          "metadata": {},
          "execution_count": 91
        }
      ]
    },
    {
      "cell_type": "code",
      "metadata": {
        "id": "tVM1Y_mQgnSm"
      },
      "source": [
        "arr_list = []\n",
        "for fn in fn_list:\n",
        "    loaded = np.load(fn)\n",
        "    x = loaded['x']\n",
        "    arr_list.append(x)\n",
        "    loaded.close()"
      ],
      "execution_count": 92,
      "outputs": []
    },
    {
      "cell_type": "code",
      "metadata": {
        "id": "j8lUmD64jbro"
      },
      "source": [
        "X = np.vstack(arr_list)"
      ],
      "execution_count": 93,
      "outputs": []
    },
    {
      "cell_type": "code",
      "metadata": {
        "colab": {
          "base_uri": "https://localhost:8080/"
        },
        "id": "syNLr0CSjeJX",
        "outputId": "e08ab7a8-aa7c-41bd-c8c3-727b32115592"
      },
      "source": [
        "X.shape"
      ],
      "execution_count": 94,
      "outputs": [
        {
          "output_type": "execute_result",
          "data": {
            "text/plain": [
              "(29580, 768)"
            ]
          },
          "metadata": {},
          "execution_count": 94
        }
      ]
    },
    {
      "cell_type": "code",
      "metadata": {
        "id": "-IQmJ79pwNDL"
      },
      "source": [
        "y = df['price_value'].values"
      ],
      "execution_count": 95,
      "outputs": []
    },
    {
      "cell_type": "code",
      "metadata": {
        "id": "_gx3oA0Vxm5I"
      },
      "source": [
        "train_mask = ~df['price_value'].isnull().values\n",
        "test_mask = df['price_value'].isnull().values\n",
        "\n",
        "X_train = X[train_mask]\n",
        "X_test = X[test_mask]\n",
        "y_train = df[train_mask]['price_value'].values"
      ],
      "execution_count": 96,
      "outputs": []
    },
    {
      "cell_type": "code",
      "metadata": {
        "id": "NSfgsKfhxoqD"
      },
      "source": [
        "def mae_eval(y_pred, dtrain):\n",
        "    y_true = dtrain.get_label()\n",
        "    return 'mae', mean_absolute_error(y_true, y_pred)\n",
        "\n",
        "\n",
        "def testuj_model(X, y, model, cv=3):\n",
        "    cv = KFold(n_splits=cv, shuffle=True, random_state=42)\n",
        "\n",
        "    scores = []\n",
        "\n",
        "    for train_idx, test_idx in cv.split(X):\n",
        "        X_train_cv, X_test_cv = X[train_idx], X[test_idx]\n",
        "        y_train_cv, y_test_cv = y[train_idx], y[test_idx]\n",
        "\n",
        "        # model.fit(X_train_cv, y_train_cv)\n",
        "\n",
        "        eval_set = [(X_train_cv, y_train_cv),\n",
        "                    (X_test_cv, y_test_cv)]\n",
        "        \n",
        "        model.fit(X_train_cv, y_train_cv,\n",
        "                  eval_metric=mae_eval,\n",
        "                  eval_set=eval_set,\n",
        "                  verbose=10)\n",
        "\n",
        "        # model.fit(X_train_cv, y_train_cv,\n",
        "        #           eval_set=eval_set,\n",
        "        #           verbose=10)\n",
        "\n",
        "        # model.fit(X_train_cv, y_train_cv,\n",
        "        #           eval_metric='mae',                  \n",
        "        #           eval_set=eval_set,\n",
        "        #           verbose=10)\n",
        "\n",
        "        y_pred = model.predict(X_test_cv)\n",
        "        error = mean_absolute_error(y_test_cv, y_pred)\n",
        "        print(f'Mean absolute error: {error:.5f}')\n",
        "        scores.append(error)\n",
        "\n",
        "    print('Model:')\n",
        "    print(model)\n",
        "    print(f'Średni błąd:\\t{np.mean(scores):.05f}')\n",
        "    print(f'StdDev błąd:\\t{np.std(scores):.05f}')\n",
        "\n",
        "    return np.mean(scores)"
      ],
      "execution_count": 111,
      "outputs": []
    },
    {
      "cell_type": "code",
      "metadata": {
        "id": "6BTt6FuYRFjv"
      },
      "source": [
        "ctb_params = {\n",
        "    # 'loss_function' : 'MAE',\n",
        "    }"
      ],
      "execution_count": 81,
      "outputs": []
    },
    {
      "cell_type": "code",
      "metadata": {
        "id": "gxs2RTRlRLsW"
      },
      "source": [
        " model = ctb.CatBoostRegressor(**ctb_params)"
      ],
      "execution_count": 82,
      "outputs": []
    },
    {
      "cell_type": "code",
      "metadata": {
        "id": "m0I6COCKT1J2"
      },
      "source": [
        "model = ctb.CatBoostRegressor()"
      ],
      "execution_count": null,
      "outputs": []
    },
    {
      "cell_type": "code",
      "metadata": {
        "id": "7OPj82uq2cvT"
      },
      "source": [
        "xgb_params = {'max_depth:': 7,\n",
        "              'learning_rate' : 0.07,\n",
        "              'n_estimators': 950, \n",
        "              'reg_alpha' : 1.0,\n",
        "              'min_child_weight': 3.0,\n",
        "              'objective': 'reg:squarederror',\n",
        "              'random_state': 42}"
      ],
      "execution_count": 109,
      "outputs": []
    },
    {
      "cell_type": "code",
      "metadata": {
        "id": "Os9G9zy9xubk"
      },
      "source": [
        "model = lgb.LGBMRegressor(n_estimators=900)\n",
        "# model = xgb.XGBRegressor(**xgb_params)\n",
        "# model = ctb.CatBoostClassifier(max_depth=7, n_estimators=50, verbose=0, random_state=0)"
      ],
      "execution_count": 110,
      "outputs": []
    },
    {
      "cell_type": "code",
      "metadata": {
        "colab": {
          "base_uri": "https://localhost:8080/"
        },
        "id": "FflKVzklyFzk",
        "outputId": "acbcd63e-1e18-4da1-8f40-e2a019d72198"
      },
      "source": [
        "testuj_model(X_train, y_train, model)"
      ],
      "execution_count": 108,
      "outputs": [
        {
          "output_type": "stream",
          "name": "stdout",
          "text": [
            "[10]\ttraining's l2: 4.93779e+09\ttraining's l1: 59032.9\tvalid_1's l2: 5.46441e+09\tvalid_1's l1: 62190.3\n",
            "[20]\ttraining's l2: 4.344e+09\ttraining's l1: 55126.3\tvalid_1's l2: 5.28241e+09\tvalid_1's l1: 60804.3\n",
            "[30]\ttraining's l2: 3.88694e+09\ttraining's l1: 51951.1\tvalid_1's l2: 5.18044e+09\tvalid_1's l1: 59991.6\n",
            "[40]\ttraining's l2: 3.51357e+09\ttraining's l1: 49334\tvalid_1's l2: 5.11245e+09\tvalid_1's l1: 59485.1\n",
            "[50]\ttraining's l2: 3.1906e+09\ttraining's l1: 46892.7\tvalid_1's l2: 5.05491e+09\tvalid_1's l1: 58998.3\n",
            "[60]\ttraining's l2: 2.91985e+09\ttraining's l1: 44768.6\tvalid_1's l2: 5.03001e+09\tvalid_1's l1: 58771.3\n",
            "[70]\ttraining's l2: 2.68061e+09\ttraining's l1: 42806.8\tvalid_1's l2: 4.99698e+09\tvalid_1's l1: 58490.3\n",
            "[80]\ttraining's l2: 2.45759e+09\ttraining's l1: 40908.4\tvalid_1's l2: 4.97782e+09\tvalid_1's l1: 58317.5\n",
            "[90]\ttraining's l2: 2.27546e+09\ttraining's l1: 39267.8\tvalid_1's l2: 4.97416e+09\tvalid_1's l1: 58226.5\n",
            "[100]\ttraining's l2: 2.1036e+09\ttraining's l1: 37678\tvalid_1's l2: 4.96137e+09\tvalid_1's l1: 58083.1\n",
            "[110]\ttraining's l2: 1.94839e+09\ttraining's l1: 36175.1\tvalid_1's l2: 4.94592e+09\tvalid_1's l1: 57964.3\n",
            "[120]\ttraining's l2: 1.80452e+09\ttraining's l1: 34750.7\tvalid_1's l2: 4.94291e+09\tvalid_1's l1: 57862.3\n",
            "[130]\ttraining's l2: 1.68103e+09\ttraining's l1: 33465.9\tvalid_1's l2: 4.93343e+09\tvalid_1's l1: 57723.7\n",
            "[140]\ttraining's l2: 1.55966e+09\ttraining's l1: 32159.3\tvalid_1's l2: 4.91886e+09\tvalid_1's l1: 57559.5\n",
            "[150]\ttraining's l2: 1.45699e+09\ttraining's l1: 31023.1\tvalid_1's l2: 4.91382e+09\tvalid_1's l1: 57479.6\n",
            "[160]\ttraining's l2: 1.35855e+09\ttraining's l1: 29874.7\tvalid_1's l2: 4.90594e+09\tvalid_1's l1: 57374.5\n",
            "[170]\ttraining's l2: 1.26683e+09\ttraining's l1: 28788.8\tvalid_1's l2: 4.89351e+09\tvalid_1's l1: 57216.2\n",
            "[180]\ttraining's l2: 1.18301e+09\ttraining's l1: 27781.7\tvalid_1's l2: 4.88594e+09\tvalid_1's l1: 57135.4\n",
            "[190]\ttraining's l2: 1.10405e+09\ttraining's l1: 26769.9\tvalid_1's l2: 4.87542e+09\tvalid_1's l1: 57047\n",
            "[200]\ttraining's l2: 1.03167e+09\ttraining's l1: 25821.2\tvalid_1's l2: 4.88028e+09\tvalid_1's l1: 57049\n",
            "[210]\ttraining's l2: 9.70325e+08\ttraining's l1: 24987.1\tvalid_1's l2: 4.87701e+09\tvalid_1's l1: 57015.3\n",
            "[220]\ttraining's l2: 9.09249e+08\ttraining's l1: 24118.8\tvalid_1's l2: 4.87001e+09\tvalid_1's l1: 56950.1\n",
            "[230]\ttraining's l2: 8.52884e+08\ttraining's l1: 23291.6\tvalid_1's l2: 4.86914e+09\tvalid_1's l1: 56911\n",
            "[240]\ttraining's l2: 8.03598e+08\ttraining's l1: 22540.6\tvalid_1's l2: 4.86838e+09\tvalid_1's l1: 56877\n",
            "[250]\ttraining's l2: 7.57601e+08\ttraining's l1: 21793.5\tvalid_1's l2: 4.86401e+09\tvalid_1's l1: 56830\n",
            "[260]\ttraining's l2: 7.15558e+08\ttraining's l1: 21104.5\tvalid_1's l2: 4.85817e+09\tvalid_1's l1: 56777.4\n",
            "[270]\ttraining's l2: 6.76572e+08\ttraining's l1: 20437.8\tvalid_1's l2: 4.85262e+09\tvalid_1's l1: 56713.4\n",
            "[280]\ttraining's l2: 6.41104e+08\ttraining's l1: 19804.2\tvalid_1's l2: 4.85109e+09\tvalid_1's l1: 56691.1\n",
            "[290]\ttraining's l2: 6.05382e+08\ttraining's l1: 19165\tvalid_1's l2: 4.85673e+09\tvalid_1's l1: 56693.3\n",
            "[300]\ttraining's l2: 5.72672e+08\ttraining's l1: 18539.1\tvalid_1's l2: 4.86487e+09\tvalid_1's l1: 56721\n",
            "[310]\ttraining's l2: 5.44318e+08\ttraining's l1: 17978.8\tvalid_1's l2: 4.86347e+09\tvalid_1's l1: 56677.6\n",
            "[320]\ttraining's l2: 5.16107e+08\ttraining's l1: 17423.3\tvalid_1's l2: 4.86119e+09\tvalid_1's l1: 56650.1\n",
            "[330]\ttraining's l2: 4.9094e+08\ttraining's l1: 16911\tvalid_1's l2: 4.86099e+09\tvalid_1's l1: 56634.7\n",
            "[340]\ttraining's l2: 4.67332e+08\ttraining's l1: 16400.6\tvalid_1's l2: 4.85977e+09\tvalid_1's l1: 56615.2\n",
            "[350]\ttraining's l2: 4.45099e+08\ttraining's l1: 15915.9\tvalid_1's l2: 4.85833e+09\tvalid_1's l1: 56584.8\n",
            "[360]\ttraining's l2: 4.25195e+08\ttraining's l1: 15450.5\tvalid_1's l2: 4.85758e+09\tvalid_1's l1: 56564.3\n",
            "[370]\ttraining's l2: 4.05583e+08\ttraining's l1: 14980.1\tvalid_1's l2: 4.85783e+09\tvalid_1's l1: 56551.8\n",
            "[380]\ttraining's l2: 3.86853e+08\ttraining's l1: 14533.6\tvalid_1's l2: 4.85866e+09\tvalid_1's l1: 56547.8\n",
            "[390]\ttraining's l2: 3.70607e+08\ttraining's l1: 14126.6\tvalid_1's l2: 4.85478e+09\tvalid_1's l1: 56507.1\n",
            "[400]\ttraining's l2: 3.54999e+08\ttraining's l1: 13726.9\tvalid_1's l2: 4.85379e+09\tvalid_1's l1: 56485.1\n",
            "[410]\ttraining's l2: 3.41209e+08\ttraining's l1: 13358.5\tvalid_1's l2: 4.85553e+09\tvalid_1's l1: 56483.1\n",
            "[420]\ttraining's l2: 3.27726e+08\ttraining's l1: 12996.2\tvalid_1's l2: 4.85601e+09\tvalid_1's l1: 56489.1\n",
            "[430]\ttraining's l2: 3.15291e+08\ttraining's l1: 12642.8\tvalid_1's l2: 4.85605e+09\tvalid_1's l1: 56486.9\n",
            "[440]\ttraining's l2: 3.03528e+08\ttraining's l1: 12301.3\tvalid_1's l2: 4.85567e+09\tvalid_1's l1: 56463.2\n",
            "[450]\ttraining's l2: 2.92035e+08\ttraining's l1: 11955.4\tvalid_1's l2: 4.8553e+09\tvalid_1's l1: 56448.4\n",
            "[460]\ttraining's l2: 2.82484e+08\ttraining's l1: 11651.2\tvalid_1's l2: 4.85424e+09\tvalid_1's l1: 56433.5\n",
            "[470]\ttraining's l2: 2.72458e+08\ttraining's l1: 11332.2\tvalid_1's l2: 4.85544e+09\tvalid_1's l1: 56428.3\n",
            "[480]\ttraining's l2: 2.63412e+08\ttraining's l1: 11034.4\tvalid_1's l2: 4.85324e+09\tvalid_1's l1: 56403.4\n",
            "[490]\ttraining's l2: 2.55071e+08\ttraining's l1: 10751.2\tvalid_1's l2: 4.85263e+09\tvalid_1's l1: 56384.3\n",
            "[500]\ttraining's l2: 2.47808e+08\ttraining's l1: 10489.7\tvalid_1's l2: 4.853e+09\tvalid_1's l1: 56373.3\n",
            "[510]\ttraining's l2: 2.40022e+08\ttraining's l1: 10214.8\tvalid_1's l2: 4.85119e+09\tvalid_1's l1: 56342.3\n",
            "[520]\ttraining's l2: 2.33118e+08\ttraining's l1: 9954.62\tvalid_1's l2: 4.85054e+09\tvalid_1's l1: 56328.7\n",
            "[530]\ttraining's l2: 2.2731e+08\ttraining's l1: 9721.87\tvalid_1's l2: 4.85159e+09\tvalid_1's l1: 56332.7\n",
            "[540]\ttraining's l2: 2.21698e+08\ttraining's l1: 9499.28\tvalid_1's l2: 4.85166e+09\tvalid_1's l1: 56330\n",
            "[550]\ttraining's l2: 2.15805e+08\ttraining's l1: 9260.23\tvalid_1's l2: 4.84901e+09\tvalid_1's l1: 56311.4\n",
            "[560]\ttraining's l2: 2.10419e+08\ttraining's l1: 9034.56\tvalid_1's l2: 4.85062e+09\tvalid_1's l1: 56314.5\n",
            "[570]\ttraining's l2: 2.06034e+08\ttraining's l1: 8832.42\tvalid_1's l2: 4.84921e+09\tvalid_1's l1: 56292.6\n",
            "[580]\ttraining's l2: 2.01536e+08\ttraining's l1: 8625.02\tvalid_1's l2: 4.84877e+09\tvalid_1's l1: 56287.2\n",
            "[590]\ttraining's l2: 1.97359e+08\ttraining's l1: 8425.69\tvalid_1's l2: 4.84839e+09\tvalid_1's l1: 56280.6\n",
            "[600]\ttraining's l2: 1.93187e+08\ttraining's l1: 8232.29\tvalid_1's l2: 4.84739e+09\tvalid_1's l1: 56267.3\n",
            "[610]\ttraining's l2: 1.89828e+08\ttraining's l1: 8057.32\tvalid_1's l2: 4.84782e+09\tvalid_1's l1: 56265\n",
            "[620]\ttraining's l2: 1.86452e+08\ttraining's l1: 7882.91\tvalid_1's l2: 4.84637e+09\tvalid_1's l1: 56251.9\n",
            "[630]\ttraining's l2: 1.8318e+08\ttraining's l1: 7709.65\tvalid_1's l2: 4.84749e+09\tvalid_1's l1: 56259.2\n",
            "[640]\ttraining's l2: 1.80243e+08\ttraining's l1: 7547.84\tvalid_1's l2: 4.84806e+09\tvalid_1's l1: 56260.3\n",
            "[650]\ttraining's l2: 1.77423e+08\ttraining's l1: 7389.36\tvalid_1's l2: 4.84848e+09\tvalid_1's l1: 56251.9\n",
            "[660]\ttraining's l2: 1.7462e+08\ttraining's l1: 7235.3\tvalid_1's l2: 4.84794e+09\tvalid_1's l1: 56245\n",
            "[670]\ttraining's l2: 1.71983e+08\ttraining's l1: 7073.84\tvalid_1's l2: 4.84712e+09\tvalid_1's l1: 56232.6\n",
            "[680]\ttraining's l2: 1.69669e+08\ttraining's l1: 6936.07\tvalid_1's l2: 4.84669e+09\tvalid_1's l1: 56226.1\n",
            "[690]\ttraining's l2: 1.67528e+08\ttraining's l1: 6801.78\tvalid_1's l2: 4.84642e+09\tvalid_1's l1: 56216.4\n",
            "[700]\ttraining's l2: 1.65571e+08\ttraining's l1: 6670.63\tvalid_1's l2: 4.84727e+09\tvalid_1's l1: 56219.5\n",
            "[710]\ttraining's l2: 1.63745e+08\ttraining's l1: 6545.55\tvalid_1's l2: 4.8483e+09\tvalid_1's l1: 56224.3\n",
            "[720]\ttraining's l2: 1.61958e+08\ttraining's l1: 6423.86\tvalid_1's l2: 4.84689e+09\tvalid_1's l1: 56209.1\n",
            "[730]\ttraining's l2: 1.60417e+08\ttraining's l1: 6312.15\tvalid_1's l2: 4.84593e+09\tvalid_1's l1: 56201.7\n",
            "[740]\ttraining's l2: 1.5877e+08\ttraining's l1: 6193.41\tvalid_1's l2: 4.84477e+09\tvalid_1's l1: 56191.5\n",
            "[750]\ttraining's l2: 1.57322e+08\ttraining's l1: 6082.51\tvalid_1's l2: 4.84442e+09\tvalid_1's l1: 56186.7\n",
            "[760]\ttraining's l2: 1.55929e+08\ttraining's l1: 5972.09\tvalid_1's l2: 4.84403e+09\tvalid_1's l1: 56179.7\n",
            "[770]\ttraining's l2: 1.54739e+08\ttraining's l1: 5872.39\tvalid_1's l2: 4.84336e+09\tvalid_1's l1: 56173.6\n",
            "[780]\ttraining's l2: 1.5345e+08\ttraining's l1: 5768.15\tvalid_1's l2: 4.84374e+09\tvalid_1's l1: 56175\n",
            "[790]\ttraining's l2: 1.52213e+08\ttraining's l1: 5665.54\tvalid_1's l2: 4.84445e+09\tvalid_1's l1: 56176.5\n",
            "[800]\ttraining's l2: 1.51108e+08\ttraining's l1: 5572.88\tvalid_1's l2: 4.84474e+09\tvalid_1's l1: 56170.7\n",
            "[810]\ttraining's l2: 1.50041e+08\ttraining's l1: 5477.87\tvalid_1's l2: 4.84414e+09\tvalid_1's l1: 56161.8\n",
            "[820]\ttraining's l2: 1.49093e+08\ttraining's l1: 5390.95\tvalid_1's l2: 4.84392e+09\tvalid_1's l1: 56157.1\n",
            "[830]\ttraining's l2: 1.48311e+08\ttraining's l1: 5308.77\tvalid_1's l2: 4.8435e+09\tvalid_1's l1: 56152.7\n",
            "[840]\ttraining's l2: 1.47492e+08\ttraining's l1: 5227.68\tvalid_1's l2: 4.84336e+09\tvalid_1's l1: 56148.2\n",
            "[850]\ttraining's l2: 1.46714e+08\ttraining's l1: 5150.03\tvalid_1's l2: 4.84389e+09\tvalid_1's l1: 56148.5\n",
            "[860]\ttraining's l2: 1.45959e+08\ttraining's l1: 5072.03\tvalid_1's l2: 4.84409e+09\tvalid_1's l1: 56149.1\n",
            "[870]\ttraining's l2: 1.45256e+08\ttraining's l1: 4998.23\tvalid_1's l2: 4.84405e+09\tvalid_1's l1: 56145.9\n",
            "[880]\ttraining's l2: 1.44583e+08\ttraining's l1: 4926.62\tvalid_1's l2: 4.84358e+09\tvalid_1's l1: 56141.4\n",
            "[890]\ttraining's l2: 1.43968e+08\ttraining's l1: 4857.3\tvalid_1's l2: 4.84365e+09\tvalid_1's l1: 56142.9\n",
            "[900]\ttraining's l2: 1.43383e+08\ttraining's l1: 4792.35\tvalid_1's l2: 4.8438e+09\tvalid_1's l1: 56141.8\n",
            "Mean absolute error: 56141.79285\n",
            "[10]\ttraining's l2: 4.92099e+09\ttraining's l1: 59029.9\tvalid_1's l2: 5.43394e+09\tvalid_1's l1: 62103.9\n",
            "[20]\ttraining's l2: 4.31653e+09\ttraining's l1: 55060\tvalid_1's l2: 5.28194e+09\tvalid_1's l1: 60808.8\n",
            "[30]\ttraining's l2: 3.85131e+09\ttraining's l1: 51832.6\tvalid_1's l2: 5.19533e+09\tvalid_1's l1: 60038.8\n",
            "[40]\ttraining's l2: 3.47361e+09\ttraining's l1: 49069.6\tvalid_1's l2: 5.14206e+09\tvalid_1's l1: 59541.4\n",
            "[50]\ttraining's l2: 3.15022e+09\ttraining's l1: 46602.2\tvalid_1's l2: 5.11063e+09\tvalid_1's l1: 59202.6\n",
            "[60]\ttraining's l2: 2.87014e+09\ttraining's l1: 44379.3\tvalid_1's l2: 5.0988e+09\tvalid_1's l1: 59052.5\n",
            "[70]\ttraining's l2: 2.6282e+09\ttraining's l1: 42386.2\tvalid_1's l2: 5.08983e+09\tvalid_1's l1: 58908.8\n",
            "[80]\ttraining's l2: 2.41608e+09\ttraining's l1: 40579.5\tvalid_1's l2: 5.07958e+09\tvalid_1's l1: 58734\n",
            "[90]\ttraining's l2: 2.2225e+09\ttraining's l1: 38812.2\tvalid_1's l2: 5.06207e+09\tvalid_1's l1: 58526.1\n",
            "[100]\ttraining's l2: 2.04937e+09\ttraining's l1: 37212.7\tvalid_1's l2: 5.06305e+09\tvalid_1's l1: 58433.5\n",
            "[110]\ttraining's l2: 1.90102e+09\ttraining's l1: 35761.3\tvalid_1's l2: 5.05543e+09\tvalid_1's l1: 58286\n",
            "[120]\ttraining's l2: 1.76361e+09\ttraining's l1: 34387\tvalid_1's l2: 5.05918e+09\tvalid_1's l1: 58251.7\n",
            "[130]\ttraining's l2: 1.6365e+09\ttraining's l1: 33063.3\tvalid_1's l2: 5.05407e+09\tvalid_1's l1: 58130.2\n",
            "[140]\ttraining's l2: 1.53068e+09\ttraining's l1: 31876.7\tvalid_1's l2: 5.04554e+09\tvalid_1's l1: 58047.5\n",
            "[150]\ttraining's l2: 1.41861e+09\ttraining's l1: 30616.1\tvalid_1's l2: 5.03065e+09\tvalid_1's l1: 57931.7\n",
            "[160]\ttraining's l2: 1.32138e+09\ttraining's l1: 29473.3\tvalid_1's l2: 5.02817e+09\tvalid_1's l1: 57841.8\n",
            "[170]\ttraining's l2: 1.23657e+09\ttraining's l1: 28423\tvalid_1's l2: 5.03662e+09\tvalid_1's l1: 57832.2\n",
            "[180]\ttraining's l2: 1.1554e+09\ttraining's l1: 27409.6\tvalid_1's l2: 5.03149e+09\tvalid_1's l1: 57753.9\n",
            "[190]\ttraining's l2: 1.08309e+09\ttraining's l1: 26476.4\tvalid_1's l2: 5.02433e+09\tvalid_1's l1: 57672.9\n",
            "[200]\ttraining's l2: 1.01578e+09\ttraining's l1: 25558.3\tvalid_1's l2: 5.02424e+09\tvalid_1's l1: 57649.7\n",
            "[210]\ttraining's l2: 9.50134e+08\ttraining's l1: 24632.5\tvalid_1's l2: 5.02303e+09\tvalid_1's l1: 57624\n",
            "[220]\ttraining's l2: 8.90439e+08\ttraining's l1: 23778.3\tvalid_1's l2: 5.02223e+09\tvalid_1's l1: 57595.3\n",
            "[230]\ttraining's l2: 8.38419e+08\ttraining's l1: 22986.8\tvalid_1's l2: 5.02569e+09\tvalid_1's l1: 57570.7\n",
            "[240]\ttraining's l2: 7.89174e+08\ttraining's l1: 22244\tvalid_1's l2: 5.01847e+09\tvalid_1's l1: 57515.2\n",
            "[250]\ttraining's l2: 7.42929e+08\ttraining's l1: 21511.7\tvalid_1's l2: 5.01586e+09\tvalid_1's l1: 57478.7\n",
            "[260]\ttraining's l2: 6.99375e+08\ttraining's l1: 20793.7\tvalid_1's l2: 5.0145e+09\tvalid_1's l1: 57445.4\n",
            "[270]\ttraining's l2: 6.5894e+08\ttraining's l1: 20114.4\tvalid_1's l2: 5.0143e+09\tvalid_1's l1: 57422.4\n",
            "[280]\ttraining's l2: 6.22198e+08\ttraining's l1: 19467.9\tvalid_1's l2: 5.01332e+09\tvalid_1's l1: 57391.7\n",
            "[290]\ttraining's l2: 5.86876e+08\ttraining's l1: 18830.7\tvalid_1's l2: 5.00835e+09\tvalid_1's l1: 57338.5\n",
            "[300]\ttraining's l2: 5.56635e+08\ttraining's l1: 18236.5\tvalid_1's l2: 5.01113e+09\tvalid_1's l1: 57317.5\n",
            "[310]\ttraining's l2: 5.25635e+08\ttraining's l1: 17637.9\tvalid_1's l2: 5.01082e+09\tvalid_1's l1: 57291.1\n",
            "[320]\ttraining's l2: 5.01441e+08\ttraining's l1: 17129.1\tvalid_1's l2: 5.00667e+09\tvalid_1's l1: 57250.4\n",
            "[330]\ttraining's l2: 4.79505e+08\ttraining's l1: 16641.4\tvalid_1's l2: 5.00337e+09\tvalid_1's l1: 57207.8\n",
            "[340]\ttraining's l2: 4.56712e+08\ttraining's l1: 16145.6\tvalid_1's l2: 5.00516e+09\tvalid_1's l1: 57204.5\n",
            "[350]\ttraining's l2: 4.34683e+08\ttraining's l1: 15648.8\tvalid_1's l2: 5.0076e+09\tvalid_1's l1: 57197.3\n",
            "[360]\ttraining's l2: 4.15915e+08\ttraining's l1: 15222.1\tvalid_1's l2: 5.00747e+09\tvalid_1's l1: 57171.3\n",
            "[370]\ttraining's l2: 3.96255e+08\ttraining's l1: 14759.2\tvalid_1's l2: 5.0132e+09\tvalid_1's l1: 57192.1\n",
            "[380]\ttraining's l2: 3.80207e+08\ttraining's l1: 14343.9\tvalid_1's l2: 5.01182e+09\tvalid_1's l1: 57173.5\n",
            "[390]\ttraining's l2: 3.6406e+08\ttraining's l1: 13916\tvalid_1's l2: 5.01244e+09\tvalid_1's l1: 57159.4\n",
            "[400]\ttraining's l2: 3.49364e+08\ttraining's l1: 13528.4\tvalid_1's l2: 5.01369e+09\tvalid_1's l1: 57146.9\n",
            "[410]\ttraining's l2: 3.35249e+08\ttraining's l1: 13142.9\tvalid_1's l2: 5.01145e+09\tvalid_1's l1: 57126.3\n",
            "[420]\ttraining's l2: 3.22802e+08\ttraining's l1: 12786.4\tvalid_1's l2: 5.01191e+09\tvalid_1's l1: 57106.9\n",
            "[430]\ttraining's l2: 3.11226e+08\ttraining's l1: 12440.8\tvalid_1's l2: 5.01457e+09\tvalid_1's l1: 57111\n",
            "[440]\ttraining's l2: 2.99924e+08\ttraining's l1: 12103.4\tvalid_1's l2: 5.01468e+09\tvalid_1's l1: 57107.3\n",
            "[450]\ttraining's l2: 2.89079e+08\ttraining's l1: 11772.5\tvalid_1's l2: 5.01612e+09\tvalid_1's l1: 57103.5\n",
            "[460]\ttraining's l2: 2.79724e+08\ttraining's l1: 11476\tvalid_1's l2: 5.01742e+09\tvalid_1's l1: 57104.2\n",
            "[470]\ttraining's l2: 2.70661e+08\ttraining's l1: 11172.2\tvalid_1's l2: 5.0162e+09\tvalid_1's l1: 57080.6\n",
            "[480]\ttraining's l2: 2.62221e+08\ttraining's l1: 10887.8\tvalid_1's l2: 5.01486e+09\tvalid_1's l1: 57065.5\n",
            "[490]\ttraining's l2: 2.54234e+08\ttraining's l1: 10605.2\tvalid_1's l2: 5.01396e+09\tvalid_1's l1: 57051.7\n",
            "[500]\ttraining's l2: 2.46913e+08\ttraining's l1: 10335\tvalid_1's l2: 5.01277e+09\tvalid_1's l1: 57031.3\n",
            "[510]\ttraining's l2: 2.4e+08\ttraining's l1: 10073.7\tvalid_1's l2: 5.01707e+09\tvalid_1's l1: 57051.6\n",
            "[520]\ttraining's l2: 2.33657e+08\ttraining's l1: 9829.25\tvalid_1's l2: 5.01682e+09\tvalid_1's l1: 57048.1\n",
            "[530]\ttraining's l2: 2.28171e+08\ttraining's l1: 9596.55\tvalid_1's l2: 5.01552e+09\tvalid_1's l1: 57028.2\n",
            "[540]\ttraining's l2: 2.22613e+08\ttraining's l1: 9364.29\tvalid_1's l2: 5.01584e+09\tvalid_1's l1: 57021.8\n",
            "[550]\ttraining's l2: 2.17804e+08\ttraining's l1: 9148.23\tvalid_1's l2: 5.01623e+09\tvalid_1's l1: 57028.1\n",
            "[560]\ttraining's l2: 2.12353e+08\ttraining's l1: 8917.51\tvalid_1's l2: 5.0166e+09\tvalid_1's l1: 57023.3\n",
            "[570]\ttraining's l2: 2.07686e+08\ttraining's l1: 8705.49\tvalid_1's l2: 5.01683e+09\tvalid_1's l1: 57016.6\n",
            "[580]\ttraining's l2: 2.03556e+08\ttraining's l1: 8511.95\tvalid_1's l2: 5.01742e+09\tvalid_1's l1: 57013.5\n",
            "[590]\ttraining's l2: 1.99871e+08\ttraining's l1: 8333.56\tvalid_1's l2: 5.01663e+09\tvalid_1's l1: 56996.8\n",
            "[600]\ttraining's l2: 1.96118e+08\ttraining's l1: 8144.05\tvalid_1's l2: 5.01625e+09\tvalid_1's l1: 56994.2\n",
            "[610]\ttraining's l2: 1.92576e+08\ttraining's l1: 7962.94\tvalid_1's l2: 5.01599e+09\tvalid_1's l1: 56985.8\n",
            "[620]\ttraining's l2: 1.89578e+08\ttraining's l1: 7795.95\tvalid_1's l2: 5.01695e+09\tvalid_1's l1: 56984.3\n",
            "[630]\ttraining's l2: 1.8658e+08\ttraining's l1: 7631.61\tvalid_1's l2: 5.01715e+09\tvalid_1's l1: 56978.2\n",
            "[640]\ttraining's l2: 1.83607e+08\ttraining's l1: 7460.88\tvalid_1's l2: 5.01726e+09\tvalid_1's l1: 56967.7\n",
            "[650]\ttraining's l2: 1.80902e+08\ttraining's l1: 7306.43\tvalid_1's l2: 5.01819e+09\tvalid_1's l1: 56963.1\n",
            "[660]\ttraining's l2: 1.78447e+08\ttraining's l1: 7162.18\tvalid_1's l2: 5.01847e+09\tvalid_1's l1: 56962.3\n",
            "[670]\ttraining's l2: 1.76214e+08\ttraining's l1: 7021.9\tvalid_1's l2: 5.01924e+09\tvalid_1's l1: 56966.2\n",
            "[680]\ttraining's l2: 1.74011e+08\ttraining's l1: 6881.26\tvalid_1's l2: 5.01979e+09\tvalid_1's l1: 56969.5\n",
            "[690]\ttraining's l2: 1.71826e+08\ttraining's l1: 6742.25\tvalid_1's l2: 5.02009e+09\tvalid_1's l1: 56967.1\n",
            "[700]\ttraining's l2: 1.70025e+08\ttraining's l1: 6616.32\tvalid_1's l2: 5.02132e+09\tvalid_1's l1: 56965.4\n",
            "[710]\ttraining's l2: 1.68324e+08\ttraining's l1: 6494.38\tvalid_1's l2: 5.02203e+09\tvalid_1's l1: 56969.5\n",
            "[720]\ttraining's l2: 1.66735e+08\ttraining's l1: 6376.89\tvalid_1's l2: 5.02128e+09\tvalid_1's l1: 56961.1\n",
            "[730]\ttraining's l2: 1.65328e+08\ttraining's l1: 6265.3\tvalid_1's l2: 5.02145e+09\tvalid_1's l1: 56955.2\n",
            "[740]\ttraining's l2: 1.63787e+08\ttraining's l1: 6151.59\tvalid_1's l2: 5.0211e+09\tvalid_1's l1: 56950.5\n",
            "[750]\ttraining's l2: 1.62563e+08\ttraining's l1: 6054.94\tvalid_1's l2: 5.02099e+09\tvalid_1's l1: 56949\n",
            "[760]\ttraining's l2: 1.61341e+08\ttraining's l1: 5954.74\tvalid_1's l2: 5.02086e+09\tvalid_1's l1: 56943.4\n",
            "[770]\ttraining's l2: 1.60137e+08\ttraining's l1: 5854.51\tvalid_1's l2: 5.02115e+09\tvalid_1's l1: 56944.6\n",
            "[780]\ttraining's l2: 1.58962e+08\ttraining's l1: 5754.6\tvalid_1's l2: 5.02279e+09\tvalid_1's l1: 56948.1\n",
            "[790]\ttraining's l2: 1.58044e+08\ttraining's l1: 5671.65\tvalid_1's l2: 5.02348e+09\tvalid_1's l1: 56948.3\n",
            "[800]\ttraining's l2: 1.57065e+08\ttraining's l1: 5581.99\tvalid_1's l2: 5.02382e+09\tvalid_1's l1: 56947.6\n",
            "[810]\ttraining's l2: 1.56216e+08\ttraining's l1: 5498.12\tvalid_1's l2: 5.02381e+09\tvalid_1's l1: 56949.2\n",
            "[820]\ttraining's l2: 1.55295e+08\ttraining's l1: 5409.66\tvalid_1's l2: 5.02454e+09\tvalid_1's l1: 56952.4\n",
            "[830]\ttraining's l2: 1.54458e+08\ttraining's l1: 5326.76\tvalid_1's l2: 5.02413e+09\tvalid_1's l1: 56944.9\n",
            "[840]\ttraining's l2: 1.53612e+08\ttraining's l1: 5243.01\tvalid_1's l2: 5.02422e+09\tvalid_1's l1: 56943.3\n",
            "[850]\ttraining's l2: 1.52889e+08\ttraining's l1: 5165.69\tvalid_1's l2: 5.02482e+09\tvalid_1's l1: 56943.3\n",
            "[860]\ttraining's l2: 1.52215e+08\ttraining's l1: 5091.7\tvalid_1's l2: 5.02482e+09\tvalid_1's l1: 56940.7\n",
            "[870]\ttraining's l2: 1.51558e+08\ttraining's l1: 5018.96\tvalid_1's l2: 5.02422e+09\tvalid_1's l1: 56934.6\n",
            "[880]\ttraining's l2: 1.50984e+08\ttraining's l1: 4952.17\tvalid_1's l2: 5.025e+09\tvalid_1's l1: 56939.4\n",
            "[890]\ttraining's l2: 1.50415e+08\ttraining's l1: 4887.36\tvalid_1's l2: 5.02497e+09\tvalid_1's l1: 56937.3\n",
            "[900]\ttraining's l2: 1.49881e+08\ttraining's l1: 4822.89\tvalid_1's l2: 5.02505e+09\tvalid_1's l1: 56936.1\n",
            "Mean absolute error: 56936.05795\n",
            "[10]\ttraining's l2: 4.96384e+09\ttraining's l1: 59393.5\tvalid_1's l2: 5.36254e+09\tvalid_1's l1: 61378.9\n",
            "[20]\ttraining's l2: 4.37042e+09\ttraining's l1: 55540.9\tvalid_1's l2: 5.18048e+09\tvalid_1's l1: 60089.5\n",
            "[30]\ttraining's l2: 3.90591e+09\ttraining's l1: 52342.4\tvalid_1's l2: 5.05816e+09\tvalid_1's l1: 59178.5\n",
            "[40]\ttraining's l2: 3.53183e+09\ttraining's l1: 49605.4\tvalid_1's l2: 4.98448e+09\tvalid_1's l1: 58557.3\n",
            "[50]\ttraining's l2: 3.20529e+09\ttraining's l1: 47156.3\tvalid_1's l2: 4.94237e+09\tvalid_1's l1: 58185\n",
            "[60]\ttraining's l2: 2.93548e+09\ttraining's l1: 45067.1\tvalid_1's l2: 4.9069e+09\tvalid_1's l1: 57898.2\n",
            "[70]\ttraining's l2: 2.69231e+09\ttraining's l1: 43052\tvalid_1's l2: 4.88761e+09\tvalid_1's l1: 57710.8\n",
            "[80]\ttraining's l2: 2.4834e+09\ttraining's l1: 41268.4\tvalid_1's l2: 4.88553e+09\tvalid_1's l1: 57677.7\n",
            "[90]\ttraining's l2: 2.28603e+09\ttraining's l1: 39517.2\tvalid_1's l2: 4.86124e+09\tvalid_1's l1: 57464.5\n",
            "[100]\ttraining's l2: 2.10548e+09\ttraining's l1: 37860.1\tvalid_1's l2: 4.84213e+09\tvalid_1's l1: 57228.3\n",
            "[110]\ttraining's l2: 1.9526e+09\ttraining's l1: 36361.3\tvalid_1's l2: 4.83809e+09\tvalid_1's l1: 57150\n",
            "[120]\ttraining's l2: 1.81624e+09\ttraining's l1: 34977.4\tvalid_1's l2: 4.81939e+09\tvalid_1's l1: 56985.2\n",
            "[130]\ttraining's l2: 1.6879e+09\ttraining's l1: 33624.2\tvalid_1's l2: 4.81287e+09\tvalid_1's l1: 56889.8\n",
            "[140]\ttraining's l2: 1.57277e+09\ttraining's l1: 32377.3\tvalid_1's l2: 4.80405e+09\tvalid_1's l1: 56774.8\n",
            "[150]\ttraining's l2: 1.46637e+09\ttraining's l1: 31177.5\tvalid_1's l2: 4.79587e+09\tvalid_1's l1: 56650\n",
            "[160]\ttraining's l2: 1.37153e+09\ttraining's l1: 30052\tvalid_1's l2: 4.78624e+09\tvalid_1's l1: 56550.8\n",
            "[170]\ttraining's l2: 1.27918e+09\ttraining's l1: 28920\tvalid_1's l2: 4.78477e+09\tvalid_1's l1: 56491.4\n",
            "[180]\ttraining's l2: 1.1964e+09\ttraining's l1: 27911.3\tvalid_1's l2: 4.78649e+09\tvalid_1's l1: 56464.2\n",
            "[190]\ttraining's l2: 1.12202e+09\ttraining's l1: 26940.1\tvalid_1's l2: 4.79384e+09\tvalid_1's l1: 56475.5\n",
            "[200]\ttraining's l2: 1.05016e+09\ttraining's l1: 26002.8\tvalid_1's l2: 4.79273e+09\tvalid_1's l1: 56436.4\n",
            "[210]\ttraining's l2: 9.86978e+08\ttraining's l1: 25129\tvalid_1's l2: 4.79003e+09\tvalid_1's l1: 56405.6\n",
            "[220]\ttraining's l2: 9.27534e+08\ttraining's l1: 24273.7\tvalid_1's l2: 4.78891e+09\tvalid_1's l1: 56374\n",
            "[230]\ttraining's l2: 8.73097e+08\ttraining's l1: 23484.4\tvalid_1's l2: 4.79066e+09\tvalid_1's l1: 56357.7\n",
            "[240]\ttraining's l2: 8.24363e+08\ttraining's l1: 22699.9\tvalid_1's l2: 4.78454e+09\tvalid_1's l1: 56282.6\n",
            "[250]\ttraining's l2: 7.75835e+08\ttraining's l1: 21917.6\tvalid_1's l2: 4.78072e+09\tvalid_1's l1: 56219.9\n",
            "[260]\ttraining's l2: 7.30476e+08\ttraining's l1: 21173.7\tvalid_1's l2: 4.77437e+09\tvalid_1's l1: 56135.3\n",
            "[270]\ttraining's l2: 6.87334e+08\ttraining's l1: 20430.7\tvalid_1's l2: 4.77067e+09\tvalid_1's l1: 56076.5\n",
            "[280]\ttraining's l2: 6.52298e+08\ttraining's l1: 19797.3\tvalid_1's l2: 4.76571e+09\tvalid_1's l1: 56027.1\n",
            "[290]\ttraining's l2: 6.15814e+08\ttraining's l1: 19128.9\tvalid_1's l2: 4.76512e+09\tvalid_1's l1: 55989.4\n",
            "[300]\ttraining's l2: 5.84876e+08\ttraining's l1: 18541.6\tvalid_1's l2: 4.76197e+09\tvalid_1's l1: 55932.6\n",
            "[310]\ttraining's l2: 5.56572e+08\ttraining's l1: 17973.6\tvalid_1's l2: 4.76019e+09\tvalid_1's l1: 55898.5\n",
            "[320]\ttraining's l2: 5.31084e+08\ttraining's l1: 17449.2\tvalid_1's l2: 4.75836e+09\tvalid_1's l1: 55858\n",
            "[330]\ttraining's l2: 5.05281e+08\ttraining's l1: 16893\tvalid_1's l2: 4.75544e+09\tvalid_1's l1: 55809.5\n",
            "[340]\ttraining's l2: 4.83961e+08\ttraining's l1: 16427.4\tvalid_1's l2: 4.75743e+09\tvalid_1's l1: 55789.9\n",
            "[350]\ttraining's l2: 4.62381e+08\ttraining's l1: 15943.2\tvalid_1's l2: 4.75828e+09\tvalid_1's l1: 55774\n",
            "[360]\ttraining's l2: 4.41319e+08\ttraining's l1: 15454.5\tvalid_1's l2: 4.76171e+09\tvalid_1's l1: 55774.3\n",
            "[370]\ttraining's l2: 4.22472e+08\ttraining's l1: 14996.4\tvalid_1's l2: 4.76102e+09\tvalid_1's l1: 55743.5\n",
            "[380]\ttraining's l2: 4.04193e+08\ttraining's l1: 14542.9\tvalid_1's l2: 4.75885e+09\tvalid_1's l1: 55719\n",
            "[390]\ttraining's l2: 3.88836e+08\ttraining's l1: 14142.1\tvalid_1's l2: 4.7598e+09\tvalid_1's l1: 55711.6\n",
            "[400]\ttraining's l2: 3.75036e+08\ttraining's l1: 13767.9\tvalid_1's l2: 4.75882e+09\tvalid_1's l1: 55699.7\n",
            "[410]\ttraining's l2: 3.61442e+08\ttraining's l1: 13396.8\tvalid_1's l2: 4.75648e+09\tvalid_1's l1: 55676.8\n",
            "[420]\ttraining's l2: 3.4863e+08\ttraining's l1: 13030.4\tvalid_1's l2: 4.75628e+09\tvalid_1's l1: 55657.6\n",
            "[430]\ttraining's l2: 3.36828e+08\ttraining's l1: 12700.6\tvalid_1's l2: 4.75636e+09\tvalid_1's l1: 55636.4\n",
            "[440]\ttraining's l2: 3.26267e+08\ttraining's l1: 12379.3\tvalid_1's l2: 4.75525e+09\tvalid_1's l1: 55609.7\n",
            "[450]\ttraining's l2: 3.15079e+08\ttraining's l1: 12045.2\tvalid_1's l2: 4.75671e+09\tvalid_1's l1: 55603.3\n",
            "[460]\ttraining's l2: 3.05499e+08\ttraining's l1: 11738.4\tvalid_1's l2: 4.7568e+09\tvalid_1's l1: 55586.3\n",
            "[470]\ttraining's l2: 2.96714e+08\ttraining's l1: 11446\tvalid_1's l2: 4.75704e+09\tvalid_1's l1: 55582.8\n",
            "[480]\ttraining's l2: 2.8748e+08\ttraining's l1: 11141.3\tvalid_1's l2: 4.7571e+09\tvalid_1's l1: 55571.1\n",
            "[490]\ttraining's l2: 2.7875e+08\ttraining's l1: 10846.1\tvalid_1's l2: 4.75943e+09\tvalid_1's l1: 55574.9\n",
            "[500]\ttraining's l2: 2.72168e+08\ttraining's l1: 10603.1\tvalid_1's l2: 4.75758e+09\tvalid_1's l1: 55558.2\n",
            "[510]\ttraining's l2: 2.64869e+08\ttraining's l1: 10338.6\tvalid_1's l2: 4.75963e+09\tvalid_1's l1: 55556\n",
            "[520]\ttraining's l2: 2.58296e+08\ttraining's l1: 10089.6\tvalid_1's l2: 4.76165e+09\tvalid_1's l1: 55565.6\n",
            "[530]\ttraining's l2: 2.51963e+08\ttraining's l1: 9837.63\tvalid_1's l2: 4.75991e+09\tvalid_1's l1: 55539.8\n",
            "[540]\ttraining's l2: 2.45951e+08\ttraining's l1: 9600.26\tvalid_1's l2: 4.76016e+09\tvalid_1's l1: 55533.4\n",
            "[550]\ttraining's l2: 2.4075e+08\ttraining's l1: 9380.49\tvalid_1's l2: 4.75989e+09\tvalid_1's l1: 55525.6\n",
            "[560]\ttraining's l2: 2.36033e+08\ttraining's l1: 9170.04\tvalid_1's l2: 4.75937e+09\tvalid_1's l1: 55515.8\n",
            "[570]\ttraining's l2: 2.31261e+08\ttraining's l1: 8954.31\tvalid_1's l2: 4.75907e+09\tvalid_1's l1: 55503.2\n",
            "[580]\ttraining's l2: 2.26967e+08\ttraining's l1: 8757.39\tvalid_1's l2: 4.75717e+09\tvalid_1's l1: 55482.2\n",
            "[590]\ttraining's l2: 2.22732e+08\ttraining's l1: 8565.41\tvalid_1's l2: 4.75739e+09\tvalid_1's l1: 55475.8\n",
            "[600]\ttraining's l2: 2.19076e+08\ttraining's l1: 8377.23\tvalid_1's l2: 4.75714e+09\tvalid_1's l1: 55469.4\n",
            "[610]\ttraining's l2: 2.15542e+08\ttraining's l1: 8198.72\tvalid_1's l2: 4.75671e+09\tvalid_1's l1: 55457.6\n",
            "[620]\ttraining's l2: 2.12523e+08\ttraining's l1: 8033.09\tvalid_1's l2: 4.75607e+09\tvalid_1's l1: 55454.7\n",
            "[630]\ttraining's l2: 2.09321e+08\ttraining's l1: 7861.72\tvalid_1's l2: 4.75619e+09\tvalid_1's l1: 55452.2\n",
            "[640]\ttraining's l2: 2.06366e+08\ttraining's l1: 7701.59\tvalid_1's l2: 4.75588e+09\tvalid_1's l1: 55447.1\n",
            "[650]\ttraining's l2: 2.03551e+08\ttraining's l1: 7547.64\tvalid_1's l2: 4.75477e+09\tvalid_1's l1: 55433.8\n",
            "[660]\ttraining's l2: 2.01085e+08\ttraining's l1: 7402.94\tvalid_1's l2: 4.75486e+09\tvalid_1's l1: 55430.8\n",
            "[670]\ttraining's l2: 1.98837e+08\ttraining's l1: 7265.7\tvalid_1's l2: 4.75449e+09\tvalid_1's l1: 55424.6\n",
            "[680]\ttraining's l2: 1.96738e+08\ttraining's l1: 7132.52\tvalid_1's l2: 4.75451e+09\tvalid_1's l1: 55420.2\n",
            "[690]\ttraining's l2: 1.94593e+08\ttraining's l1: 6997.52\tvalid_1's l2: 4.75333e+09\tvalid_1's l1: 55408.1\n",
            "[700]\ttraining's l2: 1.92682e+08\ttraining's l1: 6869.79\tvalid_1's l2: 4.75426e+09\tvalid_1's l1: 55408.1\n",
            "[710]\ttraining's l2: 1.90758e+08\ttraining's l1: 6742.64\tvalid_1's l2: 4.75422e+09\tvalid_1's l1: 55400.7\n",
            "[720]\ttraining's l2: 1.89117e+08\ttraining's l1: 6625.09\tvalid_1's l2: 4.75444e+09\tvalid_1's l1: 55397.2\n",
            "[730]\ttraining's l2: 1.87675e+08\ttraining's l1: 6518.2\tvalid_1's l2: 4.75351e+09\tvalid_1's l1: 55383.4\n",
            "[740]\ttraining's l2: 1.86073e+08\ttraining's l1: 6401.51\tvalid_1's l2: 4.75402e+09\tvalid_1's l1: 55379.8\n",
            "[750]\ttraining's l2: 1.84748e+08\ttraining's l1: 6298.38\tvalid_1's l2: 4.75383e+09\tvalid_1's l1: 55374.3\n",
            "[760]\ttraining's l2: 1.83383e+08\ttraining's l1: 6192.23\tvalid_1's l2: 4.75464e+09\tvalid_1's l1: 55374.5\n",
            "[770]\ttraining's l2: 1.82162e+08\ttraining's l1: 6091.37\tvalid_1's l2: 4.75438e+09\tvalid_1's l1: 55369.4\n",
            "[780]\ttraining's l2: 1.80996e+08\ttraining's l1: 5993.78\tvalid_1's l2: 4.75388e+09\tvalid_1's l1: 55363.2\n",
            "[790]\ttraining's l2: 1.79869e+08\ttraining's l1: 5897.82\tvalid_1's l2: 4.75381e+09\tvalid_1's l1: 55356.1\n",
            "[800]\ttraining's l2: 1.78778e+08\ttraining's l1: 5803.34\tvalid_1's l2: 4.75328e+09\tvalid_1's l1: 55348.7\n",
            "[810]\ttraining's l2: 1.77865e+08\ttraining's l1: 5717.91\tvalid_1's l2: 4.75344e+09\tvalid_1's l1: 55346.1\n",
            "[820]\ttraining's l2: 1.77045e+08\ttraining's l1: 5639.08\tvalid_1's l2: 4.75401e+09\tvalid_1's l1: 55344\n",
            "[830]\ttraining's l2: 1.76146e+08\ttraining's l1: 5553.16\tvalid_1's l2: 4.75325e+09\tvalid_1's l1: 55338.4\n",
            "[840]\ttraining's l2: 1.75462e+08\ttraining's l1: 5479.55\tvalid_1's l2: 4.75339e+09\tvalid_1's l1: 55338.7\n",
            "[850]\ttraining's l2: 1.74729e+08\ttraining's l1: 5404.6\tvalid_1's l2: 4.75294e+09\tvalid_1's l1: 55332.7\n",
            "[860]\ttraining's l2: 1.74041e+08\ttraining's l1: 5330.65\tvalid_1's l2: 4.75287e+09\tvalid_1's l1: 55328.9\n",
            "[870]\ttraining's l2: 1.73313e+08\ttraining's l1: 5255.53\tvalid_1's l2: 4.75295e+09\tvalid_1's l1: 55328\n",
            "[880]\ttraining's l2: 1.72657e+08\ttraining's l1: 5184.3\tvalid_1's l2: 4.75297e+09\tvalid_1's l1: 55326\n",
            "[890]\ttraining's l2: 1.72036e+08\ttraining's l1: 5119.39\tvalid_1's l2: 4.75306e+09\tvalid_1's l1: 55323.6\n",
            "[900]\ttraining's l2: 1.71496e+08\ttraining's l1: 5054.69\tvalid_1's l2: 4.75332e+09\tvalid_1's l1: 55322.9\n",
            "Mean absolute error: 55322.87537\n",
            "Model:\n",
            "LGBMRegressor(boosting_type='gbdt', class_weight=None, colsample_bytree=1.0,\n",
            "              importance_type='split', learning_rate=0.1, max_depth=-1,\n",
            "              min_child_samples=20, min_child_weight=0.001, min_split_gain=0.0,\n",
            "              n_estimators=900, n_jobs=-1, num_leaves=31, objective=None,\n",
            "              random_state=None, reg_alpha=0.0, reg_lambda=0.0, silent=True,\n",
            "              subsample=1.0, subsample_for_bin=200000, subsample_freq=0)\n",
            "Średni błąd:\t56133.57539\n",
            "StdDev błąd:\t658.60466\n"
          ]
        },
        {
          "output_type": "execute_result",
          "data": {
            "text/plain": [
              "56133.57538832893"
            ]
          },
          "metadata": {},
          "execution_count": 108
        }
      ]
    },
    {
      "cell_type": "code",
      "metadata": {
        "id": "PTKohYDdTW_F"
      },
      "source": [
        "model = xgb.XGBRegressor(**xgb_params)"
      ],
      "execution_count": 112,
      "outputs": []
    },
    {
      "cell_type": "code",
      "metadata": {
        "colab": {
          "base_uri": "https://localhost:8080/"
        },
        "id": "_2OH8xTCg-8o",
        "outputId": "5a0502ee-d500-40e9-a738-ae5c83d33eb9"
      },
      "source": [
        "testuj_model(X_train, y_train, model)"
      ],
      "execution_count": null,
      "outputs": [
        {
          "output_type": "stream",
          "name": "stdout",
          "text": [
            "[0]\tvalidation_0-rmse:283530\tvalidation_1-rmse:284612\tvalidation_0-mae:273130\tvalidation_1-mae:274159\n",
            "[10]\tvalidation_0-rmse:151693\tvalidation_1-rmse:153227\tvalidation_0-mae:132382\tvalidation_1-mae:133572\n",
            "[20]\tvalidation_0-rmse:97142.8\tvalidation_1-rmse:99081.6\tvalidation_0-mae:78304.7\tvalidation_1-mae:80303.6\n",
            "[30]\tvalidation_0-rmse:78491.8\tvalidation_1-rmse:80839.5\tvalidation_0-mae:64010.4\tvalidation_1-mae:66441\n",
            "[40]\tvalidation_0-rmse:72897.5\tvalidation_1-rmse:75576.4\tvalidation_0-mae:60417.9\tvalidation_1-mae:62949.7\n",
            "[50]\tvalidation_0-rmse:71007.8\tvalidation_1-rmse:74009.2\tvalidation_0-mae:59253.7\tvalidation_1-mae:61948.6\n",
            "[60]\tvalidation_0-rmse:70095.6\tvalidation_1-rmse:73480.4\tvalidation_0-mae:58633.5\tvalidation_1-mae:61640.6\n",
            "[70]\tvalidation_0-rmse:69358.3\tvalidation_1-rmse:73177.8\tvalidation_0-mae:58053.8\tvalidation_1-mae:61394.8\n",
            "[80]\tvalidation_0-rmse:68841.8\tvalidation_1-rmse:72983.5\tvalidation_0-mae:57622.6\tvalidation_1-mae:61252.4\n",
            "[90]\tvalidation_0-rmse:68326.5\tvalidation_1-rmse:72823.2\tvalidation_0-mae:57169.7\tvalidation_1-mae:61095.1\n",
            "[100]\tvalidation_0-rmse:67748.2\tvalidation_1-rmse:72641.7\tvalidation_0-mae:56640.6\tvalidation_1-mae:60899.8\n",
            "[110]\tvalidation_0-rmse:67257.7\tvalidation_1-rmse:72505.2\tvalidation_0-mae:56205.1\tvalidation_1-mae:60791.1\n",
            "[120]\tvalidation_0-rmse:66824.5\tvalidation_1-rmse:72375.5\tvalidation_0-mae:55814.5\tvalidation_1-mae:60650.6\n",
            "[130]\tvalidation_0-rmse:66430.1\tvalidation_1-rmse:72262.9\tvalidation_0-mae:55454.7\tvalidation_1-mae:60534.7\n",
            "[140]\tvalidation_0-rmse:65976.4\tvalidation_1-rmse:72115.1\tvalidation_0-mae:55031.3\tvalidation_1-mae:60382.8\n",
            "[150]\tvalidation_0-rmse:65527.7\tvalidation_1-rmse:72011.7\tvalidation_0-mae:54616.2\tvalidation_1-mae:60273.8\n",
            "[160]\tvalidation_0-rmse:65079.1\tvalidation_1-rmse:71908.7\tvalidation_0-mae:54207.4\tvalidation_1-mae:60176.1\n",
            "[170]\tvalidation_0-rmse:64716.2\tvalidation_1-rmse:71815\tvalidation_0-mae:53889.8\tvalidation_1-mae:60076.8\n",
            "[180]\tvalidation_0-rmse:64324\tvalidation_1-rmse:71703\tvalidation_0-mae:53534.5\tvalidation_1-mae:59945.2\n",
            "[190]\tvalidation_0-rmse:63849.2\tvalidation_1-rmse:71589.4\tvalidation_0-mae:53117.5\tvalidation_1-mae:59831.2\n",
            "[200]\tvalidation_0-rmse:63435.7\tvalidation_1-rmse:71496.9\tvalidation_0-mae:52743.5\tvalidation_1-mae:59714.7\n",
            "[210]\tvalidation_0-rmse:63046.6\tvalidation_1-rmse:71409.5\tvalidation_0-mae:52390.5\tvalidation_1-mae:59608.9\n",
            "[220]\tvalidation_0-rmse:62658.7\tvalidation_1-rmse:71321.4\tvalidation_0-mae:52037.3\tvalidation_1-mae:59515.8\n",
            "[230]\tvalidation_0-rmse:62265\tvalidation_1-rmse:71278\tvalidation_0-mae:51687.4\tvalidation_1-mae:59461.5\n",
            "[240]\tvalidation_0-rmse:61905.9\tvalidation_1-rmse:71200.2\tvalidation_0-mae:51367.3\tvalidation_1-mae:59380.6\n",
            "[250]\tvalidation_0-rmse:61586.8\tvalidation_1-rmse:71157.6\tvalidation_0-mae:51077.6\tvalidation_1-mae:59323.7\n",
            "[260]\tvalidation_0-rmse:61254.8\tvalidation_1-rmse:71097.7\tvalidation_0-mae:50776.3\tvalidation_1-mae:59246.2\n",
            "[270]\tvalidation_0-rmse:60894.7\tvalidation_1-rmse:71047.1\tvalidation_0-mae:50475.4\tvalidation_1-mae:59178.7\n",
            "[280]\tvalidation_0-rmse:60506.2\tvalidation_1-rmse:70949.9\tvalidation_0-mae:50120.1\tvalidation_1-mae:59062\n",
            "[290]\tvalidation_0-rmse:60199.9\tvalidation_1-rmse:70910.4\tvalidation_0-mae:49849\tvalidation_1-mae:59012.8\n",
            "[300]\tvalidation_0-rmse:59892\tvalidation_1-rmse:70881.7\tvalidation_0-mae:49568.2\tvalidation_1-mae:58983.7\n",
            "[310]\tvalidation_0-rmse:59566.2\tvalidation_1-rmse:70850.1\tvalidation_0-mae:49279\tvalidation_1-mae:58930.4\n",
            "[320]\tvalidation_0-rmse:59216.8\tvalidation_1-rmse:70773.1\tvalidation_0-mae:48971.3\tvalidation_1-mae:58842.6\n",
            "[330]\tvalidation_0-rmse:58923.6\tvalidation_1-rmse:70748.1\tvalidation_0-mae:48709.1\tvalidation_1-mae:58798.6\n",
            "[340]\tvalidation_0-rmse:58660.5\tvalidation_1-rmse:70714.6\tvalidation_0-mae:48464.6\tvalidation_1-mae:58750.2\n",
            "[350]\tvalidation_0-rmse:58370.8\tvalidation_1-rmse:70675.8\tvalidation_0-mae:48203.8\tvalidation_1-mae:58711\n",
            "[360]\tvalidation_0-rmse:57997.6\tvalidation_1-rmse:70614\tvalidation_0-mae:47870.9\tvalidation_1-mae:58619.1\n",
            "[370]\tvalidation_0-rmse:57691.9\tvalidation_1-rmse:70583.2\tvalidation_0-mae:47603.5\tvalidation_1-mae:58575\n",
            "[380]\tvalidation_0-rmse:57367.5\tvalidation_1-rmse:70553.8\tvalidation_0-mae:47315.7\tvalidation_1-mae:58528\n",
            "[390]\tvalidation_0-rmse:57049\tvalidation_1-rmse:70520.2\tvalidation_0-mae:47050.2\tvalidation_1-mae:58485.3\n",
            "[400]\tvalidation_0-rmse:56726.1\tvalidation_1-rmse:70495.9\tvalidation_0-mae:46755.5\tvalidation_1-mae:58442.7\n",
            "[410]\tvalidation_0-rmse:56444.2\tvalidation_1-rmse:70454.4\tvalidation_0-mae:46511.3\tvalidation_1-mae:58379.5\n",
            "[420]\tvalidation_0-rmse:56150.4\tvalidation_1-rmse:70444.2\tvalidation_0-mae:46246.5\tvalidation_1-mae:58349.6\n",
            "[430]\tvalidation_0-rmse:55866.8\tvalidation_1-rmse:70434.1\tvalidation_0-mae:45989.4\tvalidation_1-mae:58311.7\n",
            "[440]\tvalidation_0-rmse:55592.8\tvalidation_1-rmse:70417.4\tvalidation_0-mae:45752.3\tvalidation_1-mae:58274.2\n",
            "[450]\tvalidation_0-rmse:55283.7\tvalidation_1-rmse:70396.8\tvalidation_0-mae:45481.7\tvalidation_1-mae:58252.1\n",
            "[460]\tvalidation_0-rmse:55025.4\tvalidation_1-rmse:70397.7\tvalidation_0-mae:45252.8\tvalidation_1-mae:58241.6\n",
            "[470]\tvalidation_0-rmse:54741.6\tvalidation_1-rmse:70383.2\tvalidation_0-mae:44997.7\tvalidation_1-mae:58225.8\n",
            "[480]\tvalidation_0-rmse:54467.8\tvalidation_1-rmse:70389.9\tvalidation_0-mae:44750.9\tvalidation_1-mae:58224.5\n",
            "[490]\tvalidation_0-rmse:54251.4\tvalidation_1-rmse:70394.5\tvalidation_0-mae:44554.7\tvalidation_1-mae:58224\n",
            "[500]\tvalidation_0-rmse:53980\tvalidation_1-rmse:70390.6\tvalidation_0-mae:44318\tvalidation_1-mae:58175.2\n",
            "[510]\tvalidation_0-rmse:53730.5\tvalidation_1-rmse:70365\tvalidation_0-mae:44108.8\tvalidation_1-mae:58145.6\n",
            "[520]\tvalidation_0-rmse:53439.4\tvalidation_1-rmse:70346.2\tvalidation_0-mae:43853.9\tvalidation_1-mae:58111.5\n",
            "[530]\tvalidation_0-rmse:53151.5\tvalidation_1-rmse:70325\tvalidation_0-mae:43616.9\tvalidation_1-mae:58074.7\n",
            "[540]\tvalidation_0-rmse:52888.8\tvalidation_1-rmse:70313.2\tvalidation_0-mae:43382.7\tvalidation_1-mae:58046\n",
            "[550]\tvalidation_0-rmse:52577.5\tvalidation_1-rmse:70288.9\tvalidation_0-mae:43111.7\tvalidation_1-mae:58019.9\n",
            "[560]\tvalidation_0-rmse:52305.7\tvalidation_1-rmse:70301\tvalidation_0-mae:42869.3\tvalidation_1-mae:58019.5\n",
            "[570]\tvalidation_0-rmse:52062.6\tvalidation_1-rmse:70295\tvalidation_0-mae:42649.1\tvalidation_1-mae:57999.9\n",
            "[580]\tvalidation_0-rmse:51804.9\tvalidation_1-rmse:70262.5\tvalidation_0-mae:42439.8\tvalidation_1-mae:57969.8\n",
            "[590]\tvalidation_0-rmse:51560.1\tvalidation_1-rmse:70278.9\tvalidation_0-mae:42217\tvalidation_1-mae:57953.6\n",
            "[600]\tvalidation_0-rmse:51319.7\tvalidation_1-rmse:70269.5\tvalidation_0-mae:42005.8\tvalidation_1-mae:57926.1\n",
            "[610]\tvalidation_0-rmse:51047.1\tvalidation_1-rmse:70238.7\tvalidation_0-mae:41760.2\tvalidation_1-mae:57894.7\n",
            "[620]\tvalidation_0-rmse:50816.1\tvalidation_1-rmse:70234.4\tvalidation_0-mae:41562.1\tvalidation_1-mae:57888.5\n",
            "[630]\tvalidation_0-rmse:50588.3\tvalidation_1-rmse:70228.1\tvalidation_0-mae:41365.4\tvalidation_1-mae:57865.8\n",
            "[640]\tvalidation_0-rmse:50377.9\tvalidation_1-rmse:70228\tvalidation_0-mae:41174.7\tvalidation_1-mae:57849.6\n",
            "[650]\tvalidation_0-rmse:50140\tvalidation_1-rmse:70210.9\tvalidation_0-mae:40976.7\tvalidation_1-mae:57843.7\n",
            "[660]\tvalidation_0-rmse:49926.1\tvalidation_1-rmse:70204.7\tvalidation_0-mae:40786\tvalidation_1-mae:57830\n",
            "[670]\tvalidation_0-rmse:49686.5\tvalidation_1-rmse:70183.8\tvalidation_0-mae:40570.9\tvalidation_1-mae:57794.8\n",
            "[680]\tvalidation_0-rmse:49454.8\tvalidation_1-rmse:70180.5\tvalidation_0-mae:40364.7\tvalidation_1-mae:57788.1\n",
            "[690]\tvalidation_0-rmse:49236.9\tvalidation_1-rmse:70178.1\tvalidation_0-mae:40168.7\tvalidation_1-mae:57774.8\n",
            "[700]\tvalidation_0-rmse:48984.3\tvalidation_1-rmse:70177.1\tvalidation_0-mae:39952.9\tvalidation_1-mae:57755.6\n",
            "[710]\tvalidation_0-rmse:48752.3\tvalidation_1-rmse:70161.4\tvalidation_0-mae:39750.3\tvalidation_1-mae:57743.9\n",
            "[720]\tvalidation_0-rmse:48520.4\tvalidation_1-rmse:70137.9\tvalidation_0-mae:39544.9\tvalidation_1-mae:57713.9\n",
            "[730]\tvalidation_0-rmse:48287.4\tvalidation_1-rmse:70118.1\tvalidation_0-mae:39341.1\tvalidation_1-mae:57691\n",
            "[740]\tvalidation_0-rmse:48084.3\tvalidation_1-rmse:70098.2\tvalidation_0-mae:39155.5\tvalidation_1-mae:57654.5\n",
            "[750]\tvalidation_0-rmse:47881.9\tvalidation_1-rmse:70091\tvalidation_0-mae:38981.1\tvalidation_1-mae:57636\n",
            "[760]\tvalidation_0-rmse:47676.9\tvalidation_1-rmse:70064.6\tvalidation_0-mae:38799.5\tvalidation_1-mae:57613.6\n",
            "[770]\tvalidation_0-rmse:47468.4\tvalidation_1-rmse:70049.3\tvalidation_0-mae:38620.1\tvalidation_1-mae:57603.5\n",
            "[780]\tvalidation_0-rmse:47253.3\tvalidation_1-rmse:70039.9\tvalidation_0-mae:38433.1\tvalidation_1-mae:57582.9\n",
            "[790]\tvalidation_0-rmse:47029.8\tvalidation_1-rmse:70048.1\tvalidation_0-mae:38244.3\tvalidation_1-mae:57568.5\n",
            "[800]\tvalidation_0-rmse:46834.7\tvalidation_1-rmse:70050.6\tvalidation_0-mae:38070.9\tvalidation_1-mae:57574.3\n",
            "[810]\tvalidation_0-rmse:46634.8\tvalidation_1-rmse:70028.3\tvalidation_0-mae:37894.6\tvalidation_1-mae:57549\n",
            "[820]\tvalidation_0-rmse:46379.7\tvalidation_1-rmse:69992.3\tvalidation_0-mae:37678.7\tvalidation_1-mae:57509.2\n",
            "[830]\tvalidation_0-rmse:46175.3\tvalidation_1-rmse:69977.4\tvalidation_0-mae:37499.1\tvalidation_1-mae:57488.1\n",
            "[840]\tvalidation_0-rmse:45995.1\tvalidation_1-rmse:69966.3\tvalidation_0-mae:37336.3\tvalidation_1-mae:57465.5\n",
            "[850]\tvalidation_0-rmse:45762.8\tvalidation_1-rmse:69976.6\tvalidation_0-mae:37129.1\tvalidation_1-mae:57468\n",
            "[860]\tvalidation_0-rmse:45551.9\tvalidation_1-rmse:69976.7\tvalidation_0-mae:36947.7\tvalidation_1-mae:57459.9\n",
            "[870]\tvalidation_0-rmse:45379.8\tvalidation_1-rmse:69967.9\tvalidation_0-mae:36795.7\tvalidation_1-mae:57454.1\n",
            "[880]\tvalidation_0-rmse:45195.8\tvalidation_1-rmse:69968.1\tvalidation_0-mae:36633.6\tvalidation_1-mae:57465.2\n",
            "[890]\tvalidation_0-rmse:44987.7\tvalidation_1-rmse:69944.1\tvalidation_0-mae:36449\tvalidation_1-mae:57453\n",
            "[900]\tvalidation_0-rmse:44780.9\tvalidation_1-rmse:69925.6\tvalidation_0-mae:36267.4\tvalidation_1-mae:57418.9\n",
            "[910]\tvalidation_0-rmse:44568.4\tvalidation_1-rmse:69921.1\tvalidation_0-mae:36085.7\tvalidation_1-mae:57405.7\n",
            "[920]\tvalidation_0-rmse:44394.8\tvalidation_1-rmse:69909.6\tvalidation_0-mae:35925.5\tvalidation_1-mae:57386.9\n",
            "[930]\tvalidation_0-rmse:44212\tvalidation_1-rmse:69898.6\tvalidation_0-mae:35764.3\tvalidation_1-mae:57367.4\n",
            "[940]\tvalidation_0-rmse:44016.3\tvalidation_1-rmse:69909.2\tvalidation_0-mae:35600.3\tvalidation_1-mae:57366.6\n",
            "[949]\tvalidation_0-rmse:43883.7\tvalidation_1-rmse:69907\tvalidation_0-mae:35485.2\tvalidation_1-mae:57359.7\n",
            "Mean absolute error: 57359.69601\n",
            "[0]\tvalidation_0-rmse:284331\tvalidation_1-rmse:282777\tvalidation_0-mae:273939\tvalidation_1-mae:272314\n",
            "[10]\tvalidation_0-rmse:152029\tvalidation_1-rmse:151003\tvalidation_0-mae:132774\tvalidation_1-mae:131166\n",
            "[20]\tvalidation_0-rmse:97204\tvalidation_1-rmse:97342\tvalidation_0-mae:78471.3\tvalidation_1-mae:78497.2\n",
            "[30]\tvalidation_0-rmse:78349.4\tvalidation_1-rmse:79706.8\tvalidation_0-mae:64126.7\tvalidation_1-mae:65325.1\n",
            "[40]\tvalidation_0-rmse:72670.5\tvalidation_1-rmse:74982.6\tvalidation_0-mae:60458.7\tvalidation_1-mae:62406.9\n",
            "[50]\tvalidation_0-rmse:70692.3\tvalidation_1-rmse:73742.1\tvalidation_0-mae:59157.1\tvalidation_1-mae:61744.2\n",
            "[60]\tvalidation_0-rmse:69726.3\tvalidation_1-rmse:73367.6\tvalidation_0-mae:58458.1\tvalidation_1-mae:61560.2\n",
            "[70]\tvalidation_0-rmse:68987.6\tvalidation_1-rmse:73180.6\tvalidation_0-mae:57854.2\tvalidation_1-mae:61417.7\n",
            "[80]\tvalidation_0-rmse:68329.1\tvalidation_1-rmse:73019.9\tvalidation_0-mae:57298\tvalidation_1-mae:61311.2\n",
            "[90]\tvalidation_0-rmse:67750.9\tvalidation_1-rmse:72923.1\tvalidation_0-mae:56782.9\tvalidation_1-mae:61185.3\n",
            "[100]\tvalidation_0-rmse:67129\tvalidation_1-rmse:72810.2\tvalidation_0-mae:56214.8\tvalidation_1-mae:61024.9\n",
            "[110]\tvalidation_0-rmse:66609.1\tvalidation_1-rmse:72714.4\tvalidation_0-mae:55746.1\tvalidation_1-mae:60921.8\n",
            "[120]\tvalidation_0-rmse:66088.6\tvalidation_1-rmse:72619.7\tvalidation_0-mae:55276.9\tvalidation_1-mae:60815.3\n",
            "[130]\tvalidation_0-rmse:65597.6\tvalidation_1-rmse:72518.1\tvalidation_0-mae:54845.3\tvalidation_1-mae:60679.1\n",
            "[140]\tvalidation_0-rmse:65142.4\tvalidation_1-rmse:72445.2\tvalidation_0-mae:54424.9\tvalidation_1-mae:60584.3\n",
            "[150]\tvalidation_0-rmse:64631.7\tvalidation_1-rmse:72369.4\tvalidation_0-mae:53958.4\tvalidation_1-mae:60477.8\n",
            "[160]\tvalidation_0-rmse:64132.7\tvalidation_1-rmse:72283.8\tvalidation_0-mae:53511.7\tvalidation_1-mae:60366.8\n",
            "[170]\tvalidation_0-rmse:63675\tvalidation_1-rmse:72263.9\tvalidation_0-mae:53114.7\tvalidation_1-mae:60316.9\n",
            "[180]\tvalidation_0-rmse:63245.7\tvalidation_1-rmse:72209.3\tvalidation_0-mae:52733.3\tvalidation_1-mae:60234.8\n",
            "[190]\tvalidation_0-rmse:62807\tvalidation_1-rmse:72174.7\tvalidation_0-mae:52343.5\tvalidation_1-mae:60173.1\n",
            "[200]\tvalidation_0-rmse:62404.1\tvalidation_1-rmse:72149.3\tvalidation_0-mae:51975.3\tvalidation_1-mae:60137.6\n",
            "[210]\tvalidation_0-rmse:62015.1\tvalidation_1-rmse:72124.3\tvalidation_0-mae:51619.9\tvalidation_1-mae:60092.8\n",
            "[220]\tvalidation_0-rmse:61600.3\tvalidation_1-rmse:72049\tvalidation_0-mae:51241.6\tvalidation_1-mae:60003.5\n",
            "[230]\tvalidation_0-rmse:61255.8\tvalidation_1-rmse:72014.2\tvalidation_0-mae:50914.8\tvalidation_1-mae:59940.9\n",
            "[240]\tvalidation_0-rmse:60864.4\tvalidation_1-rmse:71970.8\tvalidation_0-mae:50576.9\tvalidation_1-mae:59870.1\n",
            "[250]\tvalidation_0-rmse:60463.7\tvalidation_1-rmse:71928\tvalidation_0-mae:50223.2\tvalidation_1-mae:59807.6\n",
            "[260]\tvalidation_0-rmse:60112.4\tvalidation_1-rmse:71871.2\tvalidation_0-mae:49911.5\tvalidation_1-mae:59742.2\n",
            "[270]\tvalidation_0-rmse:59761.4\tvalidation_1-rmse:71850.4\tvalidation_0-mae:49585.1\tvalidation_1-mae:59718.4\n",
            "[280]\tvalidation_0-rmse:59438.2\tvalidation_1-rmse:71809.1\tvalidation_0-mae:49288.3\tvalidation_1-mae:59667.9\n",
            "[290]\tvalidation_0-rmse:59042.3\tvalidation_1-rmse:71773.6\tvalidation_0-mae:48918\tvalidation_1-mae:59608.4\n",
            "[300]\tvalidation_0-rmse:58717.1\tvalidation_1-rmse:71774.6\tvalidation_0-mae:48617.3\tvalidation_1-mae:59594.5\n",
            "[310]\tvalidation_0-rmse:58424.6\tvalidation_1-rmse:71747.2\tvalidation_0-mae:48355.5\tvalidation_1-mae:59551.9\n",
            "[320]\tvalidation_0-rmse:58105.5\tvalidation_1-rmse:71741\tvalidation_0-mae:48079.5\tvalidation_1-mae:59537.5\n",
            "[330]\tvalidation_0-rmse:57728.5\tvalidation_1-rmse:71736.6\tvalidation_0-mae:47752.7\tvalidation_1-mae:59518.2\n",
            "[340]\tvalidation_0-rmse:57432.8\tvalidation_1-rmse:71752.8\tvalidation_0-mae:47487.4\tvalidation_1-mae:59514.8\n",
            "[350]\tvalidation_0-rmse:57146\tvalidation_1-rmse:71757.4\tvalidation_0-mae:47225\tvalidation_1-mae:59507.2\n",
            "[360]\tvalidation_0-rmse:56836.2\tvalidation_1-rmse:71753.5\tvalidation_0-mae:46959.1\tvalidation_1-mae:59490.9\n",
            "[370]\tvalidation_0-rmse:56555.7\tvalidation_1-rmse:71726.3\tvalidation_0-mae:46702.9\tvalidation_1-mae:59451.8\n",
            "[380]\tvalidation_0-rmse:56252.3\tvalidation_1-rmse:71716\tvalidation_0-mae:46427.1\tvalidation_1-mae:59430.6\n",
            "[390]\tvalidation_0-rmse:55914\tvalidation_1-rmse:71703.1\tvalidation_0-mae:46128.6\tvalidation_1-mae:59415.5\n",
            "[400]\tvalidation_0-rmse:55613.3\tvalidation_1-rmse:71681.4\tvalidation_0-mae:45848.2\tvalidation_1-mae:59375.9\n",
            "[410]\tvalidation_0-rmse:55314.4\tvalidation_1-rmse:71633.1\tvalidation_0-mae:45583.6\tvalidation_1-mae:59330.4\n",
            "[420]\tvalidation_0-rmse:55030.7\tvalidation_1-rmse:71623.4\tvalidation_0-mae:45336.1\tvalidation_1-mae:59319.1\n",
            "[430]\tvalidation_0-rmse:54693.2\tvalidation_1-rmse:71608\tvalidation_0-mae:45038.9\tvalidation_1-mae:59293.1\n",
            "[440]\tvalidation_0-rmse:54416.6\tvalidation_1-rmse:71596.5\tvalidation_0-mae:44783.9\tvalidation_1-mae:59274.1\n",
            "[450]\tvalidation_0-rmse:54171.5\tvalidation_1-rmse:71586.7\tvalidation_0-mae:44562.6\tvalidation_1-mae:59239.7\n",
            "[460]\tvalidation_0-rmse:53880.2\tvalidation_1-rmse:71556.6\tvalidation_0-mae:44296.4\tvalidation_1-mae:59192.7\n",
            "[470]\tvalidation_0-rmse:53583.3\tvalidation_1-rmse:71557.6\tvalidation_0-mae:44028.2\tvalidation_1-mae:59186.8\n",
            "[480]\tvalidation_0-rmse:53286.2\tvalidation_1-rmse:71560.6\tvalidation_0-mae:43777.4\tvalidation_1-mae:59161.8\n",
            "[490]\tvalidation_0-rmse:52995.7\tvalidation_1-rmse:71543.9\tvalidation_0-mae:43523.3\tvalidation_1-mae:59137.9\n",
            "[500]\tvalidation_0-rmse:52779.3\tvalidation_1-rmse:71551.7\tvalidation_0-mae:43332.8\tvalidation_1-mae:59125.1\n",
            "[510]\tvalidation_0-rmse:52488.2\tvalidation_1-rmse:71519.1\tvalidation_0-mae:43083.3\tvalidation_1-mae:59070.8\n",
            "[520]\tvalidation_0-rmse:52233.8\tvalidation_1-rmse:71493\tvalidation_0-mae:42857.2\tvalidation_1-mae:59030.5\n",
            "[530]\tvalidation_0-rmse:52009\tvalidation_1-rmse:71502.3\tvalidation_0-mae:42650.1\tvalidation_1-mae:59019.4\n",
            "[540]\tvalidation_0-rmse:51767.6\tvalidation_1-rmse:71505.5\tvalidation_0-mae:42431.5\tvalidation_1-mae:59019.7\n",
            "[550]\tvalidation_0-rmse:51502.6\tvalidation_1-rmse:71483\tvalidation_0-mae:42194.2\tvalidation_1-mae:59002.3\n",
            "[560]\tvalidation_0-rmse:51223.9\tvalidation_1-rmse:71458.7\tvalidation_0-mae:41941.8\tvalidation_1-mae:58951.5\n",
            "[570]\tvalidation_0-rmse:50994.8\tvalidation_1-rmse:71452.4\tvalidation_0-mae:41733.7\tvalidation_1-mae:58943.9\n",
            "[580]\tvalidation_0-rmse:50731.4\tvalidation_1-rmse:71456.2\tvalidation_0-mae:41499.6\tvalidation_1-mae:58931.8\n",
            "[590]\tvalidation_0-rmse:50501.8\tvalidation_1-rmse:71453.8\tvalidation_0-mae:41300.4\tvalidation_1-mae:58907.3\n",
            "[600]\tvalidation_0-rmse:50241.2\tvalidation_1-rmse:71451.9\tvalidation_0-mae:41068.2\tvalidation_1-mae:58898.3\n",
            "[610]\tvalidation_0-rmse:50002.7\tvalidation_1-rmse:71439.3\tvalidation_0-mae:40864.6\tvalidation_1-mae:58882.6\n",
            "[620]\tvalidation_0-rmse:49783.2\tvalidation_1-rmse:71430.2\tvalidation_0-mae:40664.1\tvalidation_1-mae:58867.2\n",
            "[630]\tvalidation_0-rmse:49532.8\tvalidation_1-rmse:71437.7\tvalidation_0-mae:40445.5\tvalidation_1-mae:58853.8\n",
            "[640]\tvalidation_0-rmse:49288.1\tvalidation_1-rmse:71426.9\tvalidation_0-mae:40237.4\tvalidation_1-mae:58838.6\n",
            "[650]\tvalidation_0-rmse:49105.8\tvalidation_1-rmse:71446\tvalidation_0-mae:40078.3\tvalidation_1-mae:58845.8\n",
            "[660]\tvalidation_0-rmse:48862.3\tvalidation_1-rmse:71437.5\tvalidation_0-mae:39865\tvalidation_1-mae:58815\n",
            "[670]\tvalidation_0-rmse:48621.1\tvalidation_1-rmse:71415.2\tvalidation_0-mae:39664.9\tvalidation_1-mae:58791.4\n",
            "[680]\tvalidation_0-rmse:48361.6\tvalidation_1-rmse:71386\tvalidation_0-mae:39439.2\tvalidation_1-mae:58770.7\n",
            "[690]\tvalidation_0-rmse:48124\tvalidation_1-rmse:71373.3\tvalidation_0-mae:39240.8\tvalidation_1-mae:58744.2\n",
            "[700]\tvalidation_0-rmse:47900\tvalidation_1-rmse:71372.5\tvalidation_0-mae:39048.6\tvalidation_1-mae:58728.2\n",
            "[710]\tvalidation_0-rmse:47688.2\tvalidation_1-rmse:71379\tvalidation_0-mae:38860.3\tvalidation_1-mae:58728.2\n",
            "[720]\tvalidation_0-rmse:47440.9\tvalidation_1-rmse:71397.5\tvalidation_0-mae:38651.2\tvalidation_1-mae:58738.9\n",
            "[730]\tvalidation_0-rmse:47205.6\tvalidation_1-rmse:71402.5\tvalidation_0-mae:38450\tvalidation_1-mae:58723.5\n",
            "[740]\tvalidation_0-rmse:46960\tvalidation_1-rmse:71396.1\tvalidation_0-mae:38232.8\tvalidation_1-mae:58720.3\n",
            "[750]\tvalidation_0-rmse:46747.7\tvalidation_1-rmse:71410.2\tvalidation_0-mae:38050.9\tvalidation_1-mae:58729\n",
            "[760]\tvalidation_0-rmse:46537.6\tvalidation_1-rmse:71407.6\tvalidation_0-mae:37872.5\tvalidation_1-mae:58720.9\n",
            "[770]\tvalidation_0-rmse:46337.6\tvalidation_1-rmse:71395.1\tvalidation_0-mae:37702.9\tvalidation_1-mae:58712.4\n",
            "[780]\tvalidation_0-rmse:46134\tvalidation_1-rmse:71385\tvalidation_0-mae:37522.9\tvalidation_1-mae:58695.8\n",
            "[790]\tvalidation_0-rmse:45975.1\tvalidation_1-rmse:71375.1\tvalidation_0-mae:37377.8\tvalidation_1-mae:58676\n",
            "[800]\tvalidation_0-rmse:45745.4\tvalidation_1-rmse:71362.3\tvalidation_0-mae:37182.1\tvalidation_1-mae:58644.1\n",
            "[810]\tvalidation_0-rmse:45535.9\tvalidation_1-rmse:71352.4\tvalidation_0-mae:36999.2\tvalidation_1-mae:58626.1\n",
            "[820]\tvalidation_0-rmse:45348.3\tvalidation_1-rmse:71341\tvalidation_0-mae:36841\tvalidation_1-mae:58615.6\n",
            "[830]\tvalidation_0-rmse:45137.5\tvalidation_1-rmse:71314.3\tvalidation_0-mae:36660\tvalidation_1-mae:58573.5\n",
            "[840]\tvalidation_0-rmse:44940.3\tvalidation_1-rmse:71297.4\tvalidation_0-mae:36488.9\tvalidation_1-mae:58544.2\n",
            "[850]\tvalidation_0-rmse:44761.9\tvalidation_1-rmse:71293.1\tvalidation_0-mae:36322\tvalidation_1-mae:58536.4\n",
            "[860]\tvalidation_0-rmse:44538.1\tvalidation_1-rmse:71307.4\tvalidation_0-mae:36129.4\tvalidation_1-mae:58540.1\n",
            "[870]\tvalidation_0-rmse:44346.9\tvalidation_1-rmse:71314.4\tvalidation_0-mae:35950.9\tvalidation_1-mae:58529.7\n",
            "[880]\tvalidation_0-rmse:44139.3\tvalidation_1-rmse:71321.8\tvalidation_0-mae:35773.8\tvalidation_1-mae:58528.7\n",
            "[890]\tvalidation_0-rmse:43930.5\tvalidation_1-rmse:71308.2\tvalidation_0-mae:35589\tvalidation_1-mae:58507.7\n",
            "[900]\tvalidation_0-rmse:43742.4\tvalidation_1-rmse:71309.5\tvalidation_0-mae:35422.9\tvalidation_1-mae:58510\n",
            "[910]\tvalidation_0-rmse:43569.8\tvalidation_1-rmse:71308.1\tvalidation_0-mae:35272.8\tvalidation_1-mae:58493.4\n",
            "[920]\tvalidation_0-rmse:43367.9\tvalidation_1-rmse:71316.6\tvalidation_0-mae:35098.5\tvalidation_1-mae:58485\n",
            "[930]\tvalidation_0-rmse:43172.8\tvalidation_1-rmse:71319.6\tvalidation_0-mae:34930.9\tvalidation_1-mae:58493.6\n",
            "[940]\tvalidation_0-rmse:42993.5\tvalidation_1-rmse:71326\tvalidation_0-mae:34767.6\tvalidation_1-mae:58477.1\n",
            "[949]\tvalidation_0-rmse:42858.1\tvalidation_1-rmse:71327.7\tvalidation_0-mae:34640.6\tvalidation_1-mae:58467.6\n",
            "Mean absolute error: 58467.62633\n",
            "[0]\tvalidation_0-rmse:283713\tvalidation_1-rmse:284221\tvalidation_0-mae:273265\tvalidation_1-mae:273855\n",
            "[10]\tvalidation_0-rmse:151897\tvalidation_1-rmse:152494\tvalidation_0-mae:132443\tvalidation_1-mae:133024\n",
            "[20]\tvalidation_0-rmse:97433.2\tvalidation_1-rmse:98328.9\tvalidation_0-mae:78676.1\tvalidation_1-mae:79182.6\n",
            "[30]\tvalidation_0-rmse:78794\tvalidation_1-rmse:80034.8\tvalidation_0-mae:64583.8\tvalidation_1-mae:65207.4\n",
            "[40]\tvalidation_0-rmse:73165\tvalidation_1-rmse:74785.6\tvalidation_0-mae:60852.7\tvalidation_1-mae:61968.8\n",
            "[50]\tvalidation_0-rmse:71339.6\tvalidation_1-rmse:73288.9\tvalidation_0-mae:59702.5\tvalidation_1-mae:61155.2\n",
            "[60]\tvalidation_0-rmse:70458\tvalidation_1-rmse:72737.9\tvalidation_0-mae:59094.5\tvalidation_1-mae:60861.9\n",
            "[70]\tvalidation_0-rmse:69793.4\tvalidation_1-rmse:72486.7\tvalidation_0-mae:58561.5\tvalidation_1-mae:60709.4\n",
            "[80]\tvalidation_0-rmse:69231.3\tvalidation_1-rmse:72296.3\tvalidation_0-mae:58078.4\tvalidation_1-mae:60554.7\n",
            "[90]\tvalidation_0-rmse:68684.7\tvalidation_1-rmse:72139.1\tvalidation_0-mae:57601.8\tvalidation_1-mae:60401.8\n",
            "[100]\tvalidation_0-rmse:68135.1\tvalidation_1-rmse:72000.1\tvalidation_0-mae:57116\tvalidation_1-mae:60275.7\n",
            "[110]\tvalidation_0-rmse:67657.7\tvalidation_1-rmse:71877\tvalidation_0-mae:56686.1\tvalidation_1-mae:60146.6\n",
            "[120]\tvalidation_0-rmse:67217.1\tvalidation_1-rmse:71814.8\tvalidation_0-mae:56286\tvalidation_1-mae:60076.6\n",
            "[130]\tvalidation_0-rmse:66711.9\tvalidation_1-rmse:71721.5\tvalidation_0-mae:55833.4\tvalidation_1-mae:59992.3\n",
            "[140]\tvalidation_0-rmse:66271.3\tvalidation_1-rmse:71638.9\tvalidation_0-mae:55443.8\tvalidation_1-mae:59899.3\n",
            "[150]\tvalidation_0-rmse:65800.9\tvalidation_1-rmse:71504.6\tvalidation_0-mae:55027.7\tvalidation_1-mae:59785.9\n",
            "[160]\tvalidation_0-rmse:65372.9\tvalidation_1-rmse:71435.8\tvalidation_0-mae:54646.4\tvalidation_1-mae:59680.3\n",
            "[170]\tvalidation_0-rmse:64986.1\tvalidation_1-rmse:71374.3\tvalidation_0-mae:54316.9\tvalidation_1-mae:59622.4\n",
            "[180]\tvalidation_0-rmse:64531.4\tvalidation_1-rmse:71243.4\tvalidation_0-mae:53905.7\tvalidation_1-mae:59462.1\n",
            "[190]\tvalidation_0-rmse:64087.7\tvalidation_1-rmse:71243.3\tvalidation_0-mae:53517.5\tvalidation_1-mae:59452.3\n",
            "[200]\tvalidation_0-rmse:63714\tvalidation_1-rmse:71197.9\tvalidation_0-mae:53171.1\tvalidation_1-mae:59388.9\n",
            "[210]\tvalidation_0-rmse:63308.2\tvalidation_1-rmse:71110.8\tvalidation_0-mae:52795.2\tvalidation_1-mae:59289.3\n",
            "[220]\tvalidation_0-rmse:62911.8\tvalidation_1-rmse:71021.9\tvalidation_0-mae:52456.8\tvalidation_1-mae:59181.4\n",
            "[230]\tvalidation_0-rmse:62549.5\tvalidation_1-rmse:70948.4\tvalidation_0-mae:52118.6\tvalidation_1-mae:59100.4\n",
            "[240]\tvalidation_0-rmse:62137.2\tvalidation_1-rmse:70895.5\tvalidation_0-mae:51763.5\tvalidation_1-mae:59046.7\n",
            "[250]\tvalidation_0-rmse:61759.9\tvalidation_1-rmse:70840.5\tvalidation_0-mae:51440.2\tvalidation_1-mae:58975.9\n",
            "[260]\tvalidation_0-rmse:61441.1\tvalidation_1-rmse:70804.6\tvalidation_0-mae:51163.2\tvalidation_1-mae:58929.4\n",
            "[270]\tvalidation_0-rmse:61128.2\tvalidation_1-rmse:70763.3\tvalidation_0-mae:50881.2\tvalidation_1-mae:58863.4\n",
            "[280]\tvalidation_0-rmse:60754.5\tvalidation_1-rmse:70689.7\tvalidation_0-mae:50548.7\tvalidation_1-mae:58767.1\n",
            "[290]\tvalidation_0-rmse:60421.9\tvalidation_1-rmse:70661.2\tvalidation_0-mae:50252.2\tvalidation_1-mae:58721\n",
            "[300]\tvalidation_0-rmse:60087.9\tvalidation_1-rmse:70576.8\tvalidation_0-mae:49961.1\tvalidation_1-mae:58626.8\n",
            "[310]\tvalidation_0-rmse:59802.2\tvalidation_1-rmse:70557.7\tvalidation_0-mae:49701.8\tvalidation_1-mae:58587.1\n",
            "[320]\tvalidation_0-rmse:59446.6\tvalidation_1-rmse:70502.4\tvalidation_0-mae:49386.2\tvalidation_1-mae:58508.7\n",
            "[330]\tvalidation_0-rmse:59208.5\tvalidation_1-rmse:70471.2\tvalidation_0-mae:49173.4\tvalidation_1-mae:58470.4\n",
            "[340]\tvalidation_0-rmse:58826.8\tvalidation_1-rmse:70444.8\tvalidation_0-mae:48847.7\tvalidation_1-mae:58415.9\n",
            "[350]\tvalidation_0-rmse:58481.4\tvalidation_1-rmse:70409.2\tvalidation_0-mae:48547.4\tvalidation_1-mae:58361.8\n",
            "[360]\tvalidation_0-rmse:58160\tvalidation_1-rmse:70364.8\tvalidation_0-mae:48266.6\tvalidation_1-mae:58305.9\n",
            "[370]\tvalidation_0-rmse:57827.3\tvalidation_1-rmse:70302.8\tvalidation_0-mae:47971.8\tvalidation_1-mae:58230.9\n",
            "[380]\tvalidation_0-rmse:57509.9\tvalidation_1-rmse:70281.9\tvalidation_0-mae:47685.5\tvalidation_1-mae:58205.7\n",
            "[390]\tvalidation_0-rmse:57211\tvalidation_1-rmse:70237\tvalidation_0-mae:47403.4\tvalidation_1-mae:58157.2\n",
            "[400]\tvalidation_0-rmse:56919.4\tvalidation_1-rmse:70223.9\tvalidation_0-mae:47146.9\tvalidation_1-mae:58121\n",
            "[410]\tvalidation_0-rmse:56607.7\tvalidation_1-rmse:70171.6\tvalidation_0-mae:46873.8\tvalidation_1-mae:58063.2\n",
            "[420]\tvalidation_0-rmse:56292.1\tvalidation_1-rmse:70123.1\tvalidation_0-mae:46591.5\tvalidation_1-mae:57991.3\n",
            "[430]\tvalidation_0-rmse:55994\tvalidation_1-rmse:70084\tvalidation_0-mae:46336.2\tvalidation_1-mae:57948.6\n",
            "[440]\tvalidation_0-rmse:55770\tvalidation_1-rmse:70052.6\tvalidation_0-mae:46123\tvalidation_1-mae:57901.6\n",
            "[450]\tvalidation_0-rmse:55455.1\tvalidation_1-rmse:70002.6\tvalidation_0-mae:45860.2\tvalidation_1-mae:57828.6\n",
            "[460]\tvalidation_0-rmse:55195\tvalidation_1-rmse:70005.4\tvalidation_0-mae:45638.7\tvalidation_1-mae:57826.9\n",
            "[470]\tvalidation_0-rmse:54945.3\tvalidation_1-rmse:69993.5\tvalidation_0-mae:45406.6\tvalidation_1-mae:57811.1\n",
            "[480]\tvalidation_0-rmse:54657.4\tvalidation_1-rmse:69976.3\tvalidation_0-mae:45161.1\tvalidation_1-mae:57790.1\n",
            "[490]\tvalidation_0-rmse:54369.4\tvalidation_1-rmse:69948.4\tvalidation_0-mae:44917.2\tvalidation_1-mae:57745.2\n",
            "[500]\tvalidation_0-rmse:54102.5\tvalidation_1-rmse:69910.2\tvalidation_0-mae:44679.6\tvalidation_1-mae:57699.8\n",
            "[510]\tvalidation_0-rmse:53804.8\tvalidation_1-rmse:69884.1\tvalidation_0-mae:44420.6\tvalidation_1-mae:57657.1\n",
            "[520]\tvalidation_0-rmse:53507.6\tvalidation_1-rmse:69873.3\tvalidation_0-mae:44165\tvalidation_1-mae:57644.6\n",
            "[530]\tvalidation_0-rmse:53256.8\tvalidation_1-rmse:69848.5\tvalidation_0-mae:43930.9\tvalidation_1-mae:57612.9\n",
            "[540]\tvalidation_0-rmse:52943.4\tvalidation_1-rmse:69811.4\tvalidation_0-mae:43658.6\tvalidation_1-mae:57554.2\n",
            "[550]\tvalidation_0-rmse:52704.4\tvalidation_1-rmse:69799.7\tvalidation_0-mae:43441.7\tvalidation_1-mae:57535.6\n",
            "[560]\tvalidation_0-rmse:52463.4\tvalidation_1-rmse:69787.5\tvalidation_0-mae:43216.7\tvalidation_1-mae:57513.5\n",
            "[570]\tvalidation_0-rmse:52205.8\tvalidation_1-rmse:69772\tvalidation_0-mae:42989.4\tvalidation_1-mae:57483.4\n",
            "[580]\tvalidation_0-rmse:51958.5\tvalidation_1-rmse:69753.3\tvalidation_0-mae:42776.1\tvalidation_1-mae:57444.3\n",
            "[590]\tvalidation_0-rmse:51717\tvalidation_1-rmse:69731.4\tvalidation_0-mae:42560.8\tvalidation_1-mae:57408.1\n",
            "[600]\tvalidation_0-rmse:51493.2\tvalidation_1-rmse:69689.4\tvalidation_0-mae:42368.2\tvalidation_1-mae:57368.8\n",
            "[610]\tvalidation_0-rmse:51260.4\tvalidation_1-rmse:69676.6\tvalidation_0-mae:42160.7\tvalidation_1-mae:57355\n",
            "[620]\tvalidation_0-rmse:50991.9\tvalidation_1-rmse:69657.8\tvalidation_0-mae:41934.9\tvalidation_1-mae:57326.2\n",
            "[630]\tvalidation_0-rmse:50747\tvalidation_1-rmse:69660.3\tvalidation_0-mae:41715.7\tvalidation_1-mae:57301.4\n",
            "[640]\tvalidation_0-rmse:50493.2\tvalidation_1-rmse:69638.1\tvalidation_0-mae:41487.6\tvalidation_1-mae:57285\n"
          ]
        }
      ]
    },
    {
      "cell_type": "code",
      "metadata": {
        "id": "YQawYTg8TbTj"
      },
      "source": [
        "model = ctb.CatBoostRegressor()"
      ],
      "execution_count": null,
      "outputs": []
    },
    {
      "cell_type": "code",
      "metadata": {
        "colab": {
          "base_uri": "https://localhost:8080/",
          "height": 301
        },
        "id": "RaGWE1vTU0Sc",
        "outputId": "23c267a2-8c9b-49cd-cbd0-d62923944fa5"
      },
      "source": [
        "model.get_all_params()"
      ],
      "execution_count": 83,
      "outputs": [
        {
          "output_type": "error",
          "ename": "CatBoostError",
          "evalue": "ignored",
          "traceback": [
            "\u001b[0;31m---------------------------------------------------------------------------\u001b[0m",
            "\u001b[0;31mCatBoostError\u001b[0m                             Traceback (most recent call last)",
            "\u001b[0;32m<ipython-input-83-1588c07b4d01>\u001b[0m in \u001b[0;36m<module>\u001b[0;34m()\u001b[0m\n\u001b[0;32m----> 1\u001b[0;31m \u001b[0mmodel\u001b[0m\u001b[0;34m.\u001b[0m\u001b[0mget_all_params\u001b[0m\u001b[0;34m(\u001b[0m\u001b[0;34m)\u001b[0m\u001b[0;34m\u001b[0m\u001b[0;34m\u001b[0m\u001b[0m\n\u001b[0m",
            "\u001b[0;32m/usr/local/lib/python3.7/dist-packages/catboost/core.py\u001b[0m in \u001b[0;36mget_all_params\u001b[0;34m(self)\u001b[0m\n\u001b[1;32m   3066\u001b[0m         \"\"\"\n\u001b[1;32m   3067\u001b[0m         \u001b[0;32mif\u001b[0m \u001b[0;32mnot\u001b[0m \u001b[0mself\u001b[0m\u001b[0;34m.\u001b[0m\u001b[0mis_fitted\u001b[0m\u001b[0;34m(\u001b[0m\u001b[0;34m)\u001b[0m\u001b[0;34m:\u001b[0m\u001b[0;34m\u001b[0m\u001b[0;34m\u001b[0m\u001b[0m\n\u001b[0;32m-> 3068\u001b[0;31m             \u001b[0;32mraise\u001b[0m \u001b[0mCatBoostError\u001b[0m\u001b[0;34m(\u001b[0m\u001b[0;34m\"There is no trained model to use get_all_params(). Use fit() to train model. Then use this method.\"\u001b[0m\u001b[0;34m)\u001b[0m\u001b[0;34m\u001b[0m\u001b[0;34m\u001b[0m\u001b[0m\n\u001b[0m\u001b[1;32m   3069\u001b[0m         \u001b[0;32mreturn\u001b[0m \u001b[0mself\u001b[0m\u001b[0;34m.\u001b[0m\u001b[0m_object\u001b[0m\u001b[0;34m.\u001b[0m\u001b[0m_get_plain_params\u001b[0m\u001b[0;34m(\u001b[0m\u001b[0;34m)\u001b[0m\u001b[0;34m\u001b[0m\u001b[0;34m\u001b[0m\u001b[0m\n\u001b[1;32m   3070\u001b[0m \u001b[0;34m\u001b[0m\u001b[0m\n",
            "\u001b[0;31mCatBoostError\u001b[0m: There is no trained model to use get_all_params(). Use fit() to train model. Then use this method."
          ]
        }
      ]
    },
    {
      "cell_type": "code",
      "metadata": {
        "colab": {
          "base_uri": "https://localhost:8080/"
        },
        "id": "kb8DBXVhyLqz",
        "outputId": "414287af-ccbc-4a95-a830-f7c5706f7fef"
      },
      "source": [
        "model.fit(X_train, y_train, verbose=10)"
      ],
      "execution_count": 72,
      "outputs": [
        {
          "output_type": "stream",
          "name": "stdout",
          "text": [
            "Learning rate set to 0.062666\n",
            "0:\tlearn: 76255.2971050\ttotal: 297ms\tremaining: 4m 56s\n",
            "10:\tlearn: 74788.3515404\ttotal: 2.62s\tremaining: 3m 55s\n",
            "20:\tlearn: 73795.9498258\ttotal: 4.92s\tremaining: 3m 49s\n",
            "30:\tlearn: 73102.6126839\ttotal: 7.2s\tremaining: 3m 45s\n",
            "40:\tlearn: 72426.0960823\ttotal: 9.46s\tremaining: 3m 41s\n",
            "50:\tlearn: 71846.2732604\ttotal: 11.7s\tremaining: 3m 37s\n",
            "60:\tlearn: 71314.0906395\ttotal: 13.9s\tremaining: 3m 34s\n",
            "70:\tlearn: 70852.0132051\ttotal: 16.2s\tremaining: 3m 31s\n",
            "80:\tlearn: 70354.4022388\ttotal: 18.4s\tremaining: 3m 28s\n",
            "90:\tlearn: 69877.4006733\ttotal: 20.6s\tremaining: 3m 26s\n",
            "100:\tlearn: 69495.0590963\ttotal: 22.8s\tremaining: 3m 23s\n",
            "110:\tlearn: 69064.4174210\ttotal: 25s\tremaining: 3m 20s\n",
            "120:\tlearn: 68665.9110187\ttotal: 27.2s\tremaining: 3m 17s\n",
            "130:\tlearn: 68238.1022092\ttotal: 29.5s\tremaining: 3m 15s\n",
            "140:\tlearn: 67832.2917151\ttotal: 31.8s\tremaining: 3m 13s\n",
            "150:\tlearn: 67472.2466704\ttotal: 34s\tremaining: 3m 10s\n",
            "160:\tlearn: 67043.3845841\ttotal: 36.2s\tremaining: 3m 8s\n",
            "170:\tlearn: 66629.5038676\ttotal: 38.3s\tremaining: 3m 5s\n",
            "180:\tlearn: 66201.4926016\ttotal: 40.5s\tremaining: 3m 3s\n",
            "190:\tlearn: 65715.3735730\ttotal: 42.7s\tremaining: 3m\n",
            "200:\tlearn: 65222.5557442\ttotal: 44.9s\tremaining: 2m 58s\n",
            "210:\tlearn: 64738.5889767\ttotal: 47.2s\tremaining: 2m 56s\n",
            "220:\tlearn: 64228.4781887\ttotal: 49.4s\tremaining: 2m 54s\n",
            "230:\tlearn: 63773.3302306\ttotal: 51.7s\tremaining: 2m 52s\n",
            "240:\tlearn: 63319.1108889\ttotal: 53.9s\tremaining: 2m 49s\n",
            "250:\tlearn: 62826.8469741\ttotal: 56.1s\tremaining: 2m 47s\n",
            "260:\tlearn: 62430.6605432\ttotal: 58.3s\tremaining: 2m 45s\n",
            "270:\tlearn: 62025.1877980\ttotal: 1m\tremaining: 2m 42s\n",
            "280:\tlearn: 61596.6806275\ttotal: 1m 2s\tremaining: 2m 40s\n",
            "290:\tlearn: 61163.4376287\ttotal: 1m 4s\tremaining: 2m 38s\n",
            "300:\tlearn: 60746.0190999\ttotal: 1m 7s\tremaining: 2m 35s\n",
            "310:\tlearn: 60348.0169418\ttotal: 1m 9s\tremaining: 2m 33s\n",
            "320:\tlearn: 59935.5377811\ttotal: 1m 11s\tremaining: 2m 31s\n",
            "330:\tlearn: 59551.0391471\ttotal: 1m 13s\tremaining: 2m 28s\n",
            "340:\tlearn: 59132.1543485\ttotal: 1m 15s\tremaining: 2m 26s\n",
            "350:\tlearn: 58777.6772289\ttotal: 1m 18s\tremaining: 2m 24s\n",
            "360:\tlearn: 58423.7966529\ttotal: 1m 20s\tremaining: 2m 21s\n",
            "370:\tlearn: 58050.8166839\ttotal: 1m 22s\tremaining: 2m 19s\n",
            "380:\tlearn: 57672.1045676\ttotal: 1m 24s\tremaining: 2m 17s\n",
            "390:\tlearn: 57290.3282154\ttotal: 1m 26s\tremaining: 2m 15s\n",
            "400:\tlearn: 56938.8737260\ttotal: 1m 29s\tremaining: 2m 13s\n",
            "410:\tlearn: 56573.2408229\ttotal: 1m 31s\tremaining: 2m 10s\n",
            "420:\tlearn: 56238.3008293\ttotal: 1m 33s\tremaining: 2m 8s\n",
            "430:\tlearn: 55904.7712313\ttotal: 1m 35s\tremaining: 2m 6s\n",
            "440:\tlearn: 55563.8200828\ttotal: 1m 38s\tremaining: 2m 4s\n",
            "450:\tlearn: 55249.1579376\ttotal: 1m 40s\tremaining: 2m 2s\n",
            "460:\tlearn: 54887.0765489\ttotal: 1m 42s\tremaining: 1m 59s\n",
            "470:\tlearn: 54571.7596452\ttotal: 1m 44s\tremaining: 1m 57s\n",
            "480:\tlearn: 54264.4097703\ttotal: 1m 46s\tremaining: 1m 55s\n",
            "490:\tlearn: 53992.3794793\ttotal: 1m 49s\tremaining: 1m 53s\n",
            "500:\tlearn: 53705.2865030\ttotal: 1m 51s\tremaining: 1m 50s\n",
            "510:\tlearn: 53395.0442377\ttotal: 1m 53s\tremaining: 1m 48s\n",
            "520:\tlearn: 53082.7740018\ttotal: 1m 55s\tremaining: 1m 46s\n",
            "530:\tlearn: 52782.8235616\ttotal: 1m 58s\tremaining: 1m 44s\n",
            "540:\tlearn: 52464.2052247\ttotal: 2m\tremaining: 1m 42s\n",
            "550:\tlearn: 52155.3189815\ttotal: 2m 2s\tremaining: 1m 39s\n",
            "560:\tlearn: 51892.2641358\ttotal: 2m 4s\tremaining: 1m 37s\n",
            "570:\tlearn: 51618.6625069\ttotal: 2m 6s\tremaining: 1m 35s\n",
            "580:\tlearn: 51333.7580155\ttotal: 2m 9s\tremaining: 1m 33s\n",
            "590:\tlearn: 51028.7387928\ttotal: 2m 11s\tremaining: 1m 30s\n",
            "600:\tlearn: 50753.6859184\ttotal: 2m 13s\tremaining: 1m 28s\n",
            "610:\tlearn: 50487.3356369\ttotal: 2m 15s\tremaining: 1m 26s\n",
            "620:\tlearn: 50185.0927458\ttotal: 2m 17s\tremaining: 1m 24s\n",
            "630:\tlearn: 49883.6370410\ttotal: 2m 20s\tremaining: 1m 21s\n",
            "640:\tlearn: 49611.1227960\ttotal: 2m 22s\tremaining: 1m 19s\n",
            "650:\tlearn: 49363.1734837\ttotal: 2m 24s\tremaining: 1m 17s\n",
            "660:\tlearn: 49081.4227936\ttotal: 2m 26s\tremaining: 1m 15s\n",
            "670:\tlearn: 48803.0647106\ttotal: 2m 28s\tremaining: 1m 13s\n",
            "680:\tlearn: 48543.0802005\ttotal: 2m 31s\tremaining: 1m 10s\n",
            "690:\tlearn: 48282.3035483\ttotal: 2m 33s\tremaining: 1m 8s\n",
            "700:\tlearn: 48018.9897283\ttotal: 2m 35s\tremaining: 1m 6s\n",
            "710:\tlearn: 47750.9245693\ttotal: 2m 37s\tremaining: 1m 4s\n",
            "720:\tlearn: 47494.9282706\ttotal: 2m 39s\tremaining: 1m 1s\n",
            "730:\tlearn: 47239.8431942\ttotal: 2m 42s\tremaining: 59.7s\n",
            "740:\tlearn: 46983.2732833\ttotal: 2m 44s\tremaining: 57.5s\n",
            "750:\tlearn: 46732.6530078\ttotal: 2m 46s\tremaining: 55.2s\n",
            "760:\tlearn: 46492.9274036\ttotal: 2m 48s\tremaining: 53s\n",
            "770:\tlearn: 46247.6633956\ttotal: 2m 51s\tremaining: 50.8s\n",
            "780:\tlearn: 46014.1603649\ttotal: 2m 53s\tremaining: 48.6s\n",
            "790:\tlearn: 45778.2605351\ttotal: 2m 55s\tremaining: 46.4s\n",
            "800:\tlearn: 45535.6122587\ttotal: 2m 57s\tremaining: 44.2s\n",
            "810:\tlearn: 45301.6163331\ttotal: 3m\tremaining: 42s\n",
            "820:\tlearn: 45087.4791067\ttotal: 3m 2s\tremaining: 39.7s\n",
            "830:\tlearn: 44848.3729152\ttotal: 3m 4s\tremaining: 37.5s\n",
            "840:\tlearn: 44610.9220576\ttotal: 3m 6s\tremaining: 35.3s\n",
            "850:\tlearn: 44377.2303557\ttotal: 3m 9s\tremaining: 33.1s\n",
            "860:\tlearn: 44167.6086176\ttotal: 3m 11s\tremaining: 30.9s\n",
            "870:\tlearn: 43939.5919895\ttotal: 3m 13s\tremaining: 28.7s\n",
            "880:\tlearn: 43712.5505662\ttotal: 3m 16s\tremaining: 26.5s\n",
            "890:\tlearn: 43502.8294900\ttotal: 3m 18s\tremaining: 24.3s\n",
            "900:\tlearn: 43287.5093546\ttotal: 3m 20s\tremaining: 22s\n",
            "910:\tlearn: 43082.4571287\ttotal: 3m 22s\tremaining: 19.8s\n",
            "920:\tlearn: 42852.1622394\ttotal: 3m 25s\tremaining: 17.6s\n",
            "930:\tlearn: 42614.2303015\ttotal: 3m 27s\tremaining: 15.4s\n",
            "940:\tlearn: 42392.2919620\ttotal: 3m 29s\tremaining: 13.2s\n",
            "950:\tlearn: 42190.0202977\ttotal: 3m 32s\tremaining: 10.9s\n",
            "960:\tlearn: 41971.8705514\ttotal: 3m 34s\tremaining: 8.7s\n",
            "970:\tlearn: 41776.3671216\ttotal: 3m 36s\tremaining: 6.47s\n",
            "980:\tlearn: 41570.5999256\ttotal: 3m 39s\tremaining: 4.24s\n",
            "990:\tlearn: 41374.9066569\ttotal: 3m 41s\tremaining: 2.01s\n",
            "999:\tlearn: 41187.0700002\ttotal: 3m 43s\tremaining: 0us\n"
          ]
        },
        {
          "output_type": "execute_result",
          "data": {
            "text/plain": [
              "<catboost.core.CatBoostRegressor at 0x7fcc8318d190>"
            ]
          },
          "metadata": {},
          "execution_count": 72
        }
      ]
    },
    {
      "cell_type": "code",
      "metadata": {
        "id": "3jU6Fys3ySas"
      },
      "source": [
        "preds = model.predict(X_test)"
      ],
      "execution_count": 73,
      "outputs": []
    },
    {
      "cell_type": "code",
      "metadata": {
        "id": "B9JUd_6r0Z-e"
      },
      "source": [
        "df_valid = df[test_mask].copy()"
      ],
      "execution_count": 74,
      "outputs": []
    },
    {
      "cell_type": "code",
      "metadata": {
        "id": "XNcUIBD80nOr"
      },
      "source": [
        "df_valid['price_value'] = preds"
      ],
      "execution_count": 75,
      "outputs": []
    },
    {
      "cell_type": "code",
      "metadata": {
        "id": "k0kuLUCW07X3"
      },
      "source": [
        "df_valid[['id', 'price_value']].to_csv(r'/content/drive/MyDrive/Data Workshop/output_pred/pred_2021_10_15_16_25_catboost.csv', index=False)"
      ],
      "execution_count": 76,
      "outputs": []
    },
    {
      "cell_type": "code",
      "metadata": {
        "id": "fm5OW-8Q1iRy"
      },
      "source": [
        ""
      ],
      "execution_count": null,
      "outputs": []
    }
  ]
}